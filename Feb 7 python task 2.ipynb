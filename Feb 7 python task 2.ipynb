{
 "cells": [
  {
   "cell_type": "markdown",
   "id": "440f6f3a-9ed1-4ef8-84ab-51373c69e41e",
   "metadata": {},
   "source": [
    "### Q1. Password Validation Function"
   ]
  },
  {
   "cell_type": "code",
   "execution_count": 1,
   "id": "cb11ce88-8b80-471f-9b05-163b3ef103bb",
   "metadata": {},
   "outputs": [],
   "source": [
    "import re\n",
    "\n",
    "def validate_password(password):\n",
    "    \"\"\"\n",
    "    Validate a password based on the company's guidelines.\n",
    "    \n",
    "    Parameters:\n",
    "    password (str): The password to be validated.\n",
    "    \n",
    "    Returns:\n",
    "    str: \"Valid Password\" if the password is valid, \"Invalid Password\" otherwise.\n",
    "    \"\"\"\n",
    "    # Check if the password has at least two uppercase letters and two lowercase letters\n",
    "    if not re.search(r\"[A-Z].*[A-Z]\", password) or not re.search(r\"[a-z].*[a-z]\", password):\n",
    "        return \"Invalid Password\"\n",
    "    \n",
    "    # Check if the password has at least a number and three special characters\n",
    "    if not re.search(r\"\\d\", password) or not re.search(r\"[^A-Za-z0-9].*[^A-Za-z0-9].*[^A-Za-z0-9]\", password):\n",
    "        return \"Invalid Password\"\n",
    "    \n",
    "    # Check if the password length is 10 characters long\n",
    "    if len(password) != 10:\n",
    "        return \"Invalid Password\"\n",
    "    \n",
    "    return \"Valid Password\""
   ]
  },
  {
   "cell_type": "code",
   "execution_count": null,
   "id": "6300425f-9de0-4fed-9e1f-e9d38ff0dff1",
   "metadata": {},
   "outputs": [
    {
     "name": "stdout",
     "output_type": "stream",
     "text": [
      "Password Validation System\n",
      "---------------------------\n"
     ]
    },
    {
     "name": "stdin",
     "output_type": "stream",
     "text": [
      "Enter a password:  shindfgege343\n"
     ]
    },
    {
     "name": "stdout",
     "output_type": "stream",
     "text": [
      "Invalid Password\n",
      "Password is invalid. Please try again.\n"
     ]
    },
    {
     "name": "stdin",
     "output_type": "stream",
     "text": [
      "Enter a password:  sd#Fge29\n"
     ]
    },
    {
     "name": "stdout",
     "output_type": "stream",
     "text": [
      "Invalid Password\n",
      "Password is invalid. Please try again.\n"
     ]
    },
    {
     "name": "stdin",
     "output_type": "stream",
     "text": [
      "Enter a password:  F232*sehiensd\n"
     ]
    },
    {
     "name": "stdout",
     "output_type": "stream",
     "text": [
      "Invalid Password\n",
      "Password is invalid. Please try again.\n"
     ]
    },
    {
     "name": "stdin",
     "output_type": "stream",
     "text": [
      "Enter a password:  ser$jomGE890\n"
     ]
    },
    {
     "name": "stdout",
     "output_type": "stream",
     "text": [
      "Invalid Password\n",
      "Password is invalid. Please try again.\n"
     ]
    },
    {
     "name": "stdin",
     "output_type": "stream",
     "text": [
      "Enter a password:  aevecjge23A\n"
     ]
    },
    {
     "name": "stdout",
     "output_type": "stream",
     "text": [
      "Invalid Password\n",
      "Password is invalid. Please try again.\n"
     ]
    },
    {
     "name": "stdin",
     "output_type": "stream",
     "text": [
      "Enter a password:  \n"
     ]
    },
    {
     "name": "stdout",
     "output_type": "stream",
     "text": [
      "Invalid Password\n",
      "Password is invalid. Please try again.\n"
     ]
    },
    {
     "name": "stdin",
     "output_type": "stream",
     "text": [
      "Enter a password:  AAbb9#$%End\n"
     ]
    },
    {
     "name": "stdout",
     "output_type": "stream",
     "text": [
      "Invalid Password\n",
      "Password is invalid. Please try again.\n"
     ]
    }
   ],
   "source": [
    "import re\n",
    "\n",
    "def validate_password(password):\n",
    "    \"\"\"\n",
    "    Validate a password based on the company's guidelines.\n",
    "    \n",
    "    Parameters:\n",
    "    password (str): The password to be validated.\n",
    "    \n",
    "    Returns:\n",
    "    str: \"Valid Password\" if the password is valid, \"Invalid Password\" otherwise.\n",
    "    \"\"\"\n",
    "    # Check if the password has at least two uppercase letters and two lowercase letters\n",
    "    if not re.search(r\"[A-Z].*[A-Z]\", password) or not re.search(r\"[a-z].*[a-z]\", password):\n",
    "        return \"Invalid Password\"\n",
    "    \n",
    "    # Check if the password has at least a number and three special characters\n",
    "    if not re.search(r\"\\d\", password) or not re.search(r\"[^A-Za-z0-9].*[^A-Za-z0-9].*[^A-Za-z0-9]\", password):\n",
    "        return \"Invalid Password\"\n",
    "    \n",
    "    # Check if the password length is 10 characters long\n",
    "    if len(password) != 10:\n",
    "        return \"Invalid Password\"\n",
    "    \n",
    "    return \"Valid Password\"\n",
    "\n",
    "def main():\n",
    "    print(\"Password Validation System\")\n",
    "    print(\"---------------------------\")\n",
    "    \n",
    "    while True:\n",
    "        password = input(\"Enter a password: \")\n",
    "        result = validate_password(password)\n",
    "        print(result)\n",
    "        \n",
    "        if result == \"Valid Password\":\n",
    "            print(\"Password is valid. You can proceed.\")\n",
    "            break\n",
    "        else:\n",
    "            print(\"Password is invalid. Please try again.\")\n",
    "\n",
    "if __name__ == \"__main__\":\n",
    "    main()"
   ]
  },
  {
   "cell_type": "markdown",
   "id": "123807f6-3ef4-409d-ac16-dc82eabb35f7",
   "metadata": {},
   "source": [
    "### Q2. Solutions using Lambda, Filter, Map, and List Comprehensions"
   ]
  },
  {
   "cell_type": "code",
   "execution_count": 2,
   "id": "6bfaf5ee-e6b3-4f6c-a89f-919e7e4b4a43",
   "metadata": {},
   "outputs": [],
   "source": [
    "# A. Check if the string starts with a particular letter"
   ]
  },
  {
   "cell_type": "code",
   "execution_count": 3,
   "id": "c3f36475-a7f9-4767-898f-bf7a7194a449",
   "metadata": {},
   "outputs": [
    {
     "name": "stdout",
     "output_type": "stream",
     "text": [
      "True\n",
      "False\n"
     ]
    }
   ],
   "source": [
    "starts_with = lambda s, letter: s.startswith(letter)\n",
    "print(starts_with(\"Hello\", \"H\"))  # True\n",
    "print(starts_with(\"World\", \"H\"))  # False"
   ]
  },
  {
   "cell_type": "code",
   "execution_count": 4,
   "id": "bdd13265-4bd0-4955-a59d-a5423eef26a6",
   "metadata": {},
   "outputs": [],
   "source": [
    "# B. Check if the string is numeric"
   ]
  },
  {
   "cell_type": "code",
   "execution_count": 5,
   "id": "c2b39aeb-f2e2-4209-b857-afd3d870e828",
   "metadata": {},
   "outputs": [
    {
     "name": "stdout",
     "output_type": "stream",
     "text": [
      "True\n",
      "False\n"
     ]
    }
   ],
   "source": [
    "is_numeric = lambda s: s.isdigit()\n",
    "print(is_numeric(\"12345\"))  # True\n",
    "print(is_numeric(\"Hello\"))  # False\n"
   ]
  },
  {
   "cell_type": "code",
   "execution_count": 6,
   "id": "28bfe400-bdef-4af9-96c4-8db65bc63c22",
   "metadata": {},
   "outputs": [],
   "source": [
    "# C. Sort a list of tuples having fruit names and their quantity"
   ]
  },
  {
   "cell_type": "code",
   "execution_count": 7,
   "id": "bcdfe4ac-0052-4295-9523-45ee9d6153cf",
   "metadata": {},
   "outputs": [
    {
     "name": "stdout",
     "output_type": "stream",
     "text": [
      "[('orange', 80), ('mango', 99), ('grapes', 1000)]\n"
     ]
    }
   ],
   "source": [
    "fruits = [(\"mango\", 99), (\"orange\", 80), (\"grapes\", 1000)]\n",
    "sorted_fruits = sorted(fruits, key=lambda x: x[1])\n",
    "print(sorted_fruits)  # [(\"orange\", 80), (\"mango\", 99), (\"grapes\", 1000)]"
   ]
  },
  {
   "cell_type": "code",
   "execution_count": 8,
   "id": "f240a484-7ec4-46f7-84ef-c31a285e6d2d",
   "metadata": {},
   "outputs": [],
   "source": [
    "# D. Find the squares of numbers from 1 to 10"
   ]
  },
  {
   "cell_type": "code",
   "execution_count": 9,
   "id": "5298749a-ac03-4a02-8e35-ddce0072e2e8",
   "metadata": {},
   "outputs": [
    {
     "name": "stdout",
     "output_type": "stream",
     "text": [
      "[1, 4, 9, 16, 25, 36, 49, 64, 81, 100]\n"
     ]
    }
   ],
   "source": [
    "squares = [x**2 for x in range(1, 11)]\n",
    "print(squares)  # [1, 4, 9, 16, 25, 36, 49, 64, 81, 100]"
   ]
  },
  {
   "cell_type": "code",
   "execution_count": 10,
   "id": "2fd435f4-0103-464e-98d5-482e1d1a8f31",
   "metadata": {},
   "outputs": [],
   "source": [
    "# E. Find the cube root of numbers from 1 to 10"
   ]
  },
  {
   "cell_type": "code",
   "execution_count": 11,
   "id": "bd7a259f-41b3-4902-bf42-e798242ee76e",
   "metadata": {},
   "outputs": [
    {
     "name": "stdout",
     "output_type": "stream",
     "text": [
      "[1.0, 1.26, 1.44, 1.59, 1.71, 1.82, 1.91, 2.0, 2.08, 2.15]\n"
     ]
    }
   ],
   "source": [
    "cube_roots = [round(x**(1/3), 2) for x in range(1, 11)]\n",
    "print(cube_roots)  # [1.0, 1.26, 1.44, 1.59, 1.71, 1.82, 1.91, 2.0, 2.08, 2.15]"
   ]
  },
  {
   "cell_type": "code",
   "execution_count": 12,
   "id": "3412a825-ef87-4d5e-b904-91b24437c655",
   "metadata": {},
   "outputs": [],
   "source": [
    "# F. Check if a given number is even"
   ]
  },
  {
   "cell_type": "code",
   "execution_count": 13,
   "id": "94c8675b-5c75-45bc-841f-4caf298331c3",
   "metadata": {},
   "outputs": [
    {
     "name": "stdout",
     "output_type": "stream",
     "text": [
      "True\n",
      "False\n"
     ]
    }
   ],
   "source": [
    "is_even = lambda x: x % 2 == 0\n",
    "print(is_even(10))  # True\n",
    "print(is_even(11))  # False"
   ]
  },
  {
   "cell_type": "code",
   "execution_count": 14,
   "id": "3ca11c78-ffae-477f-b82b-2e44918939e2",
   "metadata": {},
   "outputs": [],
   "source": [
    "# G. Filter odd numbers from the given list"
   ]
  },
  {
   "cell_type": "code",
   "execution_count": 15,
   "id": "8ef7c7ed-78f2-42ed-9c13-6249f24bff41",
   "metadata": {},
   "outputs": [
    {
     "name": "stdout",
     "output_type": "stream",
     "text": [
      "[2, 4, 6, 8, 10]\n"
     ]
    }
   ],
   "source": [
    "numbers = [1, 2, 3, 4, 5, 6, 7, 8, 9, 10]\n",
    "even_numbers = list(filter(lambda x: x % 2 == 0, numbers))\n",
    "print(even_numbers)  # [2, 4, 6, 8, 10]"
   ]
  },
  {
   "cell_type": "code",
   "execution_count": 16,
   "id": "14956b79-cf41-4621-9467-be5b05f35c2f",
   "metadata": {},
   "outputs": [],
   "source": [
    "# H. Sort a list of integers into positive and negative integers lists"
   ]
  },
  {
   "cell_type": "code",
   "execution_count": 17,
   "id": "9fb78bb7-dc81-4a55-b283-07357160fcf8",
   "metadata": {},
   "outputs": [
    {
     "name": "stdout",
     "output_type": "stream",
     "text": [
      "[1, 2, 3, 4, 5, 6]\n",
      "[-1, -2, -3, -4, -5]\n"
     ]
    }
   ],
   "source": [
    "numbers = [1, 2, 3, 4, 5, 6, -1, -2, -3, -4, -5, 0]\n",
    "positive_numbers = [x for x in numbers if x > 0]\n",
    "negative_numbers = [x for x in numbers if x < 0]\n",
    "print(positive_numbers)  # [1, 2, 3, 4, 5, 6]\n",
    "print(negative_numbers)  # [-1, -2, -3, -4, -5]"
   ]
  },
  {
   "cell_type": "code",
   "execution_count": null,
   "id": "4b0d5266-28ae-4f8b-9616-471c04960b78",
   "metadata": {},
   "outputs": [],
   "source": []
  }
 ],
 "metadata": {
  "kernelspec": {
   "display_name": "Python 3 (ipykernel)",
   "language": "python",
   "name": "python3"
  },
  "language_info": {
   "codemirror_mode": {
    "name": "ipython",
    "version": 3
   },
   "file_extension": ".py",
   "mimetype": "text/x-python",
   "name": "python",
   "nbconvert_exporter": "python",
   "pygments_lexer": "ipython3",
   "version": "3.10.8"
  }
 },
 "nbformat": 4,
 "nbformat_minor": 5
}
