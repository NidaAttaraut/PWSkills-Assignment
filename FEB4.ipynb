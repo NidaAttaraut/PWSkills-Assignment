{
 "cells": [
  {
   "cell_type": "code",
   "execution_count": null,
   "id": "b15165b9-c901-4ed5-9fe1-33b4d7277b0e",
   "metadata": {},
   "outputs": [],
   "source": [
    "\n",
    "Q2. Write a Python Program to find the squares of all the numbers in the given list of integers using\n",
    "lambda and map functions.\n",
    "[1, 2, 3, 4, 5, 6, 7, 8, 9, 10]\n",
    "Q3. Write a python program to convert the given list of integers into a tuple of strings. Use map and\n",
    "lambda functions\n",
    "Given String: [1, 2, 3, 4, 5, 6, 7, 8, 9, 10]\n",
    "Expected output: ('1', '2', '3', '4', '5', '6', '7', '8', '9', '10')\n",
    "Q4. Write a python program using reduce function to compute the product of a list containing numbers\n",
    "from 1 to 25.\n",
    "Q5. Write a python program to filter the numbers in a given list that are divisible by 2 and 3 using the\n",
    "filter function.\n",
    "[2, 3, 6, 9, 27, 60, 90, 120, 55, 46]\n",
    "Q6. Write a python program to find palindromes in the given list of strings using lambda and filter\n",
    "function.\n",
    "['python', 'php', 'aba', 'radar', 'level']"
   ]
  },
  {
   "cell_type": "markdown",
   "id": "8590e2b5-66b6-47a7-bcff-73c69c12035d",
   "metadata": {},
   "source": [
    "### Q1. Create a python program to sort the given list of tuples based on integer value using a lambda function.[('Sachin Tendulkar', 34357), ('Ricky Ponting', 27483), ('Jack Kallis', 25534), ('Virat Kohli', 24936)]"
   ]
  },
  {
   "cell_type": "code",
   "execution_count": 1,
   "id": "64a11b7b-1e13-4bd0-8a48-192258644626",
   "metadata": {},
   "outputs": [
    {
     "name": "stdout",
     "output_type": "stream",
     "text": [
      "('Virat Kohli', 24936)\n",
      "('Jack Kallis', 25534)\n",
      "('Ricky Ponting', 27483)\n",
      "('Sachin Tendulkar', 34357)\n"
     ]
    }
   ],
   "source": [
    "data = [('Sachin Tendulkar', 34357), ('Ricky Ponting', 27483), ('Jack Kallis', 25534), ('Virat Kohli', 24936)]\n",
    "\n",
    "# Sort the list of tuples based on the integer value\n",
    "sorted_data = sorted(data, key = lambda x:x[1])\n",
    "\n",
    "#Print the sorted list\n",
    "for item in sorted_data:\n",
    "    print(item)"
   ]
  },
  {
   "cell_type": "markdown",
   "id": "1bec7e0e-0eb7-42c9-ab8c-c15a6d003d81",
   "metadata": {},
   "source": [
    "### Q2. Find the squares of all the numbers in the given list using lambda and map functions:"
   ]
  },
  {
   "cell_type": "code",
   "execution_count": 4,
   "id": "bb6f59eb-3b03-4dc0-af75-956feebba89f",
   "metadata": {},
   "outputs": [
    {
     "name": "stdout",
     "output_type": "stream",
     "text": [
      "[961, 1024, 1089, 1156, 625, 1156, 3136, 5625, 5329, 7396, 7921, 529, 2916, 5776, 9801, 8100, 169, 1849, 5476, 7056, 8836]\n"
     ]
    }
   ],
   "source": [
    "num = [31,32,33,34,25,34,56,75,73,86,89,23,54,76,99,90,13,43,74,84,94]\n",
    "\n",
    "sqr = list(map(lambda x:x**2, num))\n",
    "\n",
    "print(sqr)"
   ]
  },
  {
   "cell_type": "markdown",
   "id": "b464626c-e2b3-4d34-a659-1fa5989f5295",
   "metadata": {},
   "source": [
    "### Q3. Convert the given list of integers into a tuple of strings using map and lambda functions:"
   ]
  },
  {
   "cell_type": "code",
   "execution_count": 5,
   "id": "fd293770-2634-401e-8bef-b8f4863364bb",
   "metadata": {},
   "outputs": [
    {
     "name": "stdout",
     "output_type": "stream",
     "text": [
      "('31', '32', '33', '34', '25', '34', '56', '75', '73', '86', '89', '23', '54', '76', '99', '90', '13', '43', '74', '84', '94')\n"
     ]
    }
   ],
   "source": [
    "num = [31,32,33,34,25,34,56,75,73,86,89,23,54,76,99,90,13,43,74,84,94]\n",
    "\n",
    "tuple_of_strings = tuple(map(lambda x:str(x), num))\n",
    "\n",
    "print(tuple_of_strings)"
   ]
  },
  {
   "cell_type": "markdown",
   "id": "c047dec1-f6b1-4778-aa8c-5eced9519a2a",
   "metadata": {},
   "source": [
    "### Q4. Compute the product of a list containing numbers from 1 to 25 using the reduce function:"
   ]
  },
  {
   "cell_type": "code",
   "execution_count": 6,
   "id": "b3a3d903-0079-4e1b-87d8-b69e0883c8fc",
   "metadata": {},
   "outputs": [
    {
     "name": "stdout",
     "output_type": "stream",
     "text": [
      "15511210043330985984000000\n"
     ]
    }
   ],
   "source": [
    "from functools import reduce\n",
    "\n",
    "numbers = list(range(1,26))\n",
    "\n",
    "product = reduce(lambda x,y:x*y,numbers)\n",
    "\n",
    "print(product)"
   ]
  },
  {
   "cell_type": "markdown",
   "id": "fb10c90a-b509-4101-abe0-3a8b4bc040c5",
   "metadata": {},
   "source": [
    "### Q5. Filter the numbers in a given list that are divisible by 2 and 3 using the filter function:"
   ]
  },
  {
   "cell_type": "code",
   "execution_count": 8,
   "id": "736eba79-cdb6-47a4-a028-79c2940ae0a9",
   "metadata": {},
   "outputs": [
    {
     "name": "stdout",
     "output_type": "stream",
     "text": [
      "[54, 90, 84]\n"
     ]
    }
   ],
   "source": [
    "num = [31,32,33,34,25,34,56,75,73,86,89,23,54,76,99,90,13,43,74,84,94]\n",
    "\n",
    "filtered_numbers = list(filter(lambda x:x%2 == 0 and x% 3 == 0, num))\n",
    "\n",
    "print(filtered_numbers)"
   ]
  },
  {
   "cell_type": "markdown",
   "id": "b8975d41-de0e-4ea1-8958-2a52495abaeb",
   "metadata": {},
   "source": [
    "### Q6. Find palindromes in the given list of strings using lambda and filter functions:\n"
   ]
  },
  {
   "cell_type": "code",
   "execution_count": 10,
   "id": "8ff74469-98ff-4cfe-95d6-b1fc32aa59ba",
   "metadata": {},
   "outputs": [
    {
     "name": "stdout",
     "output_type": "stream",
     "text": [
      "['php', 'aba', 'radar', 'level']\n"
     ]
    }
   ],
   "source": [
    "strings = ['python', 'php', 'aba', 'radar', 'level']\n",
    "\n",
    "palindromes = list(filter(lambda x:x == x[::-1],strings))\n",
    "\n",
    "print(palindromes)"
   ]
  },
  {
   "cell_type": "code",
   "execution_count": null,
   "id": "6a4a71be-eae2-45ef-b57c-a415d3f9ccb3",
   "metadata": {},
   "outputs": [],
   "source": []
  }
 ],
 "metadata": {
  "kernelspec": {
   "display_name": "Python 3 (ipykernel)",
   "language": "python",
   "name": "python3"
  },
  "language_info": {
   "codemirror_mode": {
    "name": "ipython",
    "version": 3
   },
   "file_extension": ".py",
   "mimetype": "text/x-python",
   "name": "python",
   "nbconvert_exporter": "python",
   "pygments_lexer": "ipython3",
   "version": "3.10.8"
  }
 },
 "nbformat": 4,
 "nbformat_minor": 5
}
