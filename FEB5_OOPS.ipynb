{
 "cells": [
  {
   "cell_type": "markdown",
   "id": "c1944f24-bbd6-48b7-8195-eb6c5b9e01a3",
   "metadata": {},
   "source": [
    "### Q1. Explain Class and Object with respect to Object-Oriented Programming. Give a suitable example.\n",
    "Class is a blueprint which defines some properties and behaviors. It is a blueprint or set of instruction to create specific types of qZobjects.An object is an instance of a class.\n",
    "A class is a logical entity whereas a object is a physical entity.\n",
    "A class does not allocate memory space while an object allocates memory space\n",
    "A class can be declared only once whereas an object can be declared more than once.\n",
    "Class donot have their own values , objects have their own value.\n",
    " "
   ]
  },
  {
   "cell_type": "markdown",
   "id": "fee7452b-a639-4d1d-aed5-217b2c3ab71e",
   "metadata": {
    "tags": []
   },
   "source": [
    "### Q2. Name the four pillars of OOPs.\n",
    "The four pillars of oops are Inheritance, Polymorphism, Encapsulation and Abstraction"
   ]
  },
  {
   "cell_type": "markdown",
   "id": "b9b94cc0-cb9f-4866-9943-275182573652",
   "metadata": {},
   "source": [
    "### Q3. Explain why the __init__() function is used. Give a suitable example.\n",
    "\n",
    "The reserved Python method __init__() is called the constructor of a class.\n",
    "You can call the constructor to create an object(=instance ) from a class and initialize its attributes.\n"
   ]
  },
  {
   "cell_type": "markdown",
   "id": "c6a04f76-3af3-4557-82f2-8b3302f7cf7f",
   "metadata": {},
   "source": [
    "### Q4. Why self is used in OOPs?\n",
    "\n",
    "The self keyword is used to all the instances in a class. By using the self keyword,one can easily access all the instances defined within a class,including its methods and attributes.\n"
   ]
  },
  {
   "cell_type": "markdown",
   "id": "40f7addd-6b30-4d20-a98f-6fc0c61b1e3f",
   "metadata": {},
   "source": [
    " ### Q5. What is inheritance? Give an example for each type of inheritance.\n",
    " Inheritance is a process of obtaining properties and characteristics(variables and methods) of another class.\n",
    " The class which inherits another class is called the child class and the main class is parent class"
   ]
  },
  {
   "cell_type": "code",
   "execution_count": 4,
   "id": "7e6c1b32-e7ea-48d5-9d03-808bc782434d",
   "metadata": {},
   "outputs": [
    {
     "name": "stdout",
     "output_type": "stream",
     "text": [
      "this is my parent class\n"
     ]
    }
   ],
   "source": [
    "# SINGLE INHERITANCE \n",
    "\n",
    "class parent:\n",
    "    \n",
    "    \n",
    "    def test_parent(self):\n",
    "        print('this is my parent class')\n",
    "\n",
    "class child(parent):\n",
    "    pass\n",
    "child_obj=child()\n",
    "child_obj.test_parent()"
   ]
  },
  {
   "cell_type": "code",
   "execution_count": 7,
   "id": "59415736-18ea-4694-a903-e943cc3b0a31",
   "metadata": {},
   "outputs": [
    {
     "name": "stdout",
     "output_type": "stream",
     "text": [
      "electric car\n",
      "a car has four wheels\n",
      "vehicles are used for transportation\n"
     ]
    }
   ],
   "source": [
    "#MUTLI LEVEL\n",
    "\n",
    "class vehicle:\n",
    "    def functioning(self):\n",
    "        print('vehicles are used for transportation')\n",
    "class car(vehicle):\n",
    "    def wheels(self):\n",
    "        print ('a car has four wheels')\n",
    "class electric_car(car):\n",
    "    def speciality(self):\n",
    "        print('electric car')\n",
    "        \n",
    "electric=electric_car()\n",
    "electric.speciality()\n",
    "electric.wheels()\n",
    "electric.functioning()\n"
   ]
  },
  {
   "cell_type": "code",
   "execution_count": 10,
   "id": "b75d8a3e-f5f6-49eb-b5de-86c11b3f6b48",
   "metadata": {},
   "outputs": [
    {
     "name": "stdout",
     "output_type": "stream",
     "text": [
      "this is parent class\n",
      "this is child3 class\n",
      "this is parent class\n",
      "this is child2 class\n",
      "this is parent class\n",
      "this is child1 class\n"
     ]
    }
   ],
   "source": [
    "## HIERARCHICAL INHERITANCE\n",
    "\n",
    "class parent:\n",
    "    def fun1(self):\n",
    "        print('this is parent class')\n",
    "class child1(parent):\n",
    "    def fun2(self):\n",
    "        print('this is child1 class')\n",
    "class child2(parent):\n",
    "    def fun3(self):\n",
    "        print('this is child2 class')\n",
    "class child3(parent):\n",
    "    def fun4(self):\n",
    "        print('this is child3 class')\n",
    "\n",
    "child_obj1 = child3()\n",
    "child_obj2 = child2()\n",
    "child_obj3 = child1()\n",
    "child_obj1.fun1()\n",
    "child_obj1.fun4()\n",
    "child_obj2.fun1()\n",
    "child_obj2.fun3()\n",
    "child_obj3.fun1()\n",
    "child_obj3.fun2()\n"
   ]
  },
  {
   "cell_type": "code",
   "execution_count": 12,
   "id": "b35a9069-a0e0-4a3b-a30a-a91d7f7257b9",
   "metadata": {},
   "outputs": [
    {
     "name": "stdout",
     "output_type": "stream",
     "text": [
      "this is class D\n",
      "this is class C\n",
      "this is class A\n"
     ]
    }
   ],
   "source": [
    "## HYBRID CLASS\n",
    "\n",
    "class A:\n",
    "    def fun1(self):\n",
    "        print('this is class A')\n",
    "class B(A):\n",
    "    def fun2(self):\n",
    "        print('this is class B')\n",
    "class C(A):\n",
    "    def fun3(self):\n",
    "        print('this is class C')\n",
    "class D(C,A):\n",
    "    def fun4(self):\n",
    "        print('this is class D')\n",
    "\n",
    "ref = D()\n",
    "ref.fun4()\n",
    "ref.fun3()\n",
    "ref.fun1()"
   ]
  },
  {
   "cell_type": "code",
   "execution_count": null,
   "id": "39a7b062-ae26-4c8c-a71c-f1c4d3ef301e",
   "metadata": {},
   "outputs": [],
   "source": []
  }
 ],
 "metadata": {
  "kernelspec": {
   "display_name": "Python 3 (ipykernel)",
   "language": "python",
   "name": "python3"
  },
  "language_info": {
   "codemirror_mode": {
    "name": "ipython",
    "version": 3
   },
   "file_extension": ".py",
   "mimetype": "text/x-python",
   "name": "python",
   "nbconvert_exporter": "python",
   "pygments_lexer": "ipython3",
   "version": "3.10.8"
  }
 },
 "nbformat": 4,
 "nbformat_minor": 5
}
