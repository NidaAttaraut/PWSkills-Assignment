{
 "cells": [
  {
   "cell_type": "markdown",
   "id": "40278639-23ed-414e-860b-3c9077066557",
   "metadata": {},
   "source": [
    "### 1. What is multithreading in Python? Why is it used? Name the module used to handle threads in Python.\n",
    "\n",
    "Multithreading in Python is a feature that allows a program to execute multiple threads or flows of execution concurrently. This is useful for tasks that are independent of each other and can be executed simultaneously, improving the overall performance and responsiveness of the program.\n",
    "\n",
    "The module used to handle threads in Python is the threading module."
   ]
  },
  {
   "cell_type": "markdown",
   "id": "aabe6a36-8505-439f-bffa-78f90b70433b",
   "metadata": {},
   "source": [
    "### 2. Why threading module used? Write the use of the following functions:\n",
    "\n",
    "activeCount(): Returns the number of threads that are currently active.\n",
    "currentThread(): Returns the current thread object.\n",
    "enumerate(): Returns a list of all threads that are currently active.\n",
    "The threading module is used to create and manage threads in Python. The above functions are used to get information about the current threads and their status.\n",
    "\n",
    "Example:"
   ]
  },
  {
   "cell_type": "code",
   "execution_count": 2,
   "id": "b42adbf3-90cb-4b77-8372-47f1f9359ab3",
   "metadata": {},
   "outputs": [
    {
     "name": "stdout",
     "output_type": "stream",
     "text": [
      "8\n",
      "<_MainThread(MainThread, started 125518673913664)>\n",
      "[<_MainThread(MainThread, started 125518673913664)>, <Thread(IOPub, started daemon 125518603384384)>, <Heartbeat(Heartbeat, started daemon 125518594991680)>, <Thread(Thread-3 (_watch_pipe_fd), started daemon 125518569813568)>, <Thread(Thread-4 (_watch_pipe_fd), started daemon 125518561420864)>, <ControlThread(Control, started daemon 125518553028160)>, <HistorySavingThread(IPythonHistorySavingThread, started 125518070412864)>, <ParentPollerUnix(Thread-2, started daemon 125518062020160)>]\n"
     ]
    },
    {
     "name": "stderr",
     "output_type": "stream",
     "text": [
      "/tmp/ipykernel_948/3468449303.py:3: DeprecationWarning: activeCount() is deprecated, use active_count() instead\n",
      "  print(threading.activeCount())  # prints the number of active threads\n",
      "/tmp/ipykernel_948/3468449303.py:4: DeprecationWarning: currentThread() is deprecated, use current_thread() instead\n",
      "  print(threading.currentThread())  # prints the current thread object\n"
     ]
    }
   ],
   "source": [
    "import threading\n",
    "\n",
    "print(threading.activeCount())  # prints the number of active threads\n",
    "print(threading.currentThread())  # prints the current thread object\n",
    "print(threading.enumerate())  # prints a list of all active threads"
   ]
  },
  {
   "cell_type": "markdown",
   "id": "62b1ffaa-0e70-4191-85d7-7d534d9c2818",
   "metadata": {},
   "source": [
    "### 3. Explain the following functions:\n",
    "\n",
    "run(): This is the method that is called when a thread is started. It is the entry point for the thread's execution.\n",
    "start(): This method starts the thread's execution by calling the run() method.\n",
    "join(): This method waits for the thread to finish its execution and then returns.\n",
    "isAlive(): This method returns a boolean indicating whether the thread is still alive (i.e., whether it has finished its execution).\n",
    "Example:"
   ]
  },
  {
   "cell_type": "code",
   "execution_count": 4,
   "id": "fe1e5c37-c3c0-4110-bcb2-8091a9a8738d",
   "metadata": {},
   "outputs": [
    {
     "name": "stdout",
     "output_type": "stream",
     "text": [
      "Thread started\n",
      "Thread finished\n"
     ]
    },
    {
     "ename": "AttributeError",
     "evalue": "'MyThread' object has no attribute 'isAlive'",
     "output_type": "error",
     "traceback": [
      "\u001b[0;31m---------------------------------------------------------------------------\u001b[0m",
      "\u001b[0;31mAttributeError\u001b[0m                            Traceback (most recent call last)",
      "Cell \u001b[0;32mIn[4], line 12\u001b[0m\n\u001b[1;32m     10\u001b[0m t\u001b[38;5;241m.\u001b[39mstart()  \u001b[38;5;66;03m# starts the thread\u001b[39;00m\n\u001b[1;32m     11\u001b[0m t\u001b[38;5;241m.\u001b[39mjoin()  \u001b[38;5;66;03m# waits for the thread to finish\u001b[39;00m\n\u001b[0;32m---> 12\u001b[0m \u001b[38;5;28mprint\u001b[39m(\u001b[43mt\u001b[49m\u001b[38;5;241;43m.\u001b[39;49m\u001b[43misAlive\u001b[49m())  \u001b[38;5;66;03m# prints False if the thread has finished\u001b[39;00m\n",
      "\u001b[0;31mAttributeError\u001b[0m: 'MyThread' object has no attribute 'isAlive'"
     ]
    }
   ],
   "source": [
    "import threading\n",
    "\n",
    "class MyThread(threading.Thread):\n",
    "    def run(self):\n",
    "        print(\"Thread started\")\n",
    "        # do some work\n",
    "        print(\"Thread finished\")\n",
    "\n",
    "t = MyThread()\n",
    "t.start()  # starts the thread\n",
    "t.join()  # waits for the thread to finish\n",
    "print(t.isAlive())  # prints False if the thread has finished"
   ]
  },
  {
   "cell_type": "markdown",
   "id": "e678c562-eb14-4313-8753-0c59b8d8aa46",
   "metadata": {},
   "source": [
    "### 4. Write a Python program to create two threads. Thread one must print the list of squares and thread two must print the list of cubes."
   ]
  },
  {
   "cell_type": "code",
   "execution_count": 5,
   "id": "beacbcff-ae27-4b3f-8fdd-1a22c52448fa",
   "metadata": {},
   "outputs": [
    {
     "name": "stdout",
     "output_type": "stream",
     "text": [
      "0\n",
      "1\n",
      "4\n",
      "9\n",
      "16\n",
      "25\n",
      "36\n",
      "49\n",
      "64\n",
      "81\n",
      "0\n",
      "1\n",
      "8\n",
      "27\n",
      "64\n",
      "125\n",
      "216\n",
      "343\n",
      "512\n",
      "729\n"
     ]
    }
   ],
   "source": [
    "import threading\n",
    "\n",
    "class SquareThread(threading.Thread):\n",
    "    def run(self):\n",
    "        for i in range(10):\n",
    "            print(i**2)\n",
    "\n",
    "class CubeThread(threading.Thread):\n",
    "    def run(self):\n",
    "        for i in range(10):\n",
    "            print(i**3)\n",
    "\n",
    "t1 = SquareThread()\n",
    "t2 = CubeThread()\n",
    "\n",
    "t1.start()\n",
    "t2.start()\n",
    "\n",
    "t1.join()\n",
    "t2.join()"
   ]
  },
  {
   "cell_type": "code",
   "execution_count": null,
   "id": "644eda5d-e7ac-4cb3-951d-7178592caf17",
   "metadata": {},
   "outputs": [],
   "source": []
  }
 ],
 "metadata": {
  "kernelspec": {
   "display_name": "Python 3 (ipykernel)",
   "language": "python",
   "name": "python3"
  },
  "language_info": {
   "codemirror_mode": {
    "name": "ipython",
    "version": 3
   },
   "file_extension": ".py",
   "mimetype": "text/x-python",
   "name": "python",
   "nbconvert_exporter": "python",
   "pygments_lexer": "ipython3",
   "version": "3.10.8"
  }
 },
 "nbformat": 4,
 "nbformat_minor": 5
}
