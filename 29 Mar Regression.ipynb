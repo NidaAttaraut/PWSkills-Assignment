{
 "cells": [
  {
   "cell_type": "markdown",
   "id": "04aa40ea-6933-429c-b604-6db99bfacdee",
   "metadata": {},
   "source": [
    "### Q1. What is Lasso Regression, and how does it differ from other regression techniques?\n",
    "Lasso Regression is a type of linear regression that adds a regularization term to the ordinary least squares objective, aiming to minimize the sum of squared residuals while also penalizing the absolute size of the regression coefficients. This penalty encourages simpler models by shrinking some coefficients to zero, effectively performing feature selection.\n",
    "\n",
    "### Q2. What is the main advantage of using Lasso Regression in feature selection?\n",
    "Difference from Other Regression Techniques: Lasso Regression differs from other regression techniques like Ridge Regression by using an L1 regularization term, which can lead to sparsity in the coefficient estimates, making it particularly useful for feature selection and handling multicollinearity.\n",
    "The main advantage of using Lasso Regression in feature selection is its ability to automatically select a subset of relevant features while setting the coefficients of irrelevant features to zero. This feature selection capability helps in reducing overfitting and improving the model's generalization performance, especially when dealing with high-dimensional data with many potentially irrelevant features.\n",
    "\n",
    "### Q3. How do you interpret the coefficients of a Lasso Regression model?\n",
    "Interpreting Coefficients in Lasso Regression: The coefficients in a Lasso Regression model can be interpreted similarly to those in ordinary linear regression. A non-zero coefficient indicates the feature's importance in predicting the target variable, while a coefficient set to zero implies that the corresponding feature is not relevant to the model's prediction. The magnitude of the coefficient reflects the feature's impact, and the sign (positive or negative) indicates the direction of influence on the target variable.\n",
    "\n",
    "### Q4. What are the tuning parameters that can be adjusted in Lasso Regression, and how do they affect the model's performance?\n",
    "Tuning Parameters in Lasso Regression:\n",
    "\n",
    "Alpha (α): This parameter controls the strength of the regularization penalty in Lasso Regression. A higher alpha value leads to more coefficients being pushed to zero, resulting in a sparser model with fewer features.\n",
    "Max Iterations: The maximum number of iterations the algorithm will run to converge to the optimal solution.\n",
    "Tolerance: The tolerance level for the optimization algorithm to declare convergence.\n",
    "Normalization: Whether or not to normalize the features before fitting the model. Normalization can be useful when features are on different scales.\n",
    "Selection Method: The method used to select the features when fitting the model.\n",
    "Adjusting these tuning parameters can affect the model's performance by controlling the trade-off between bias and variance. A higher alpha value increases bias but reduces variance, leading to a simpler model with potentially better generalization to unseen data. However, tuning these parameters requires careful consideration to avoid underfitting or overfitting the model."
   ]
  },
  {
   "cell_type": "markdown",
   "id": "61f54bec-3e17-498e-b154-b95a96256a9e",
   "metadata": {},
   "source": [
    "### Q5. Can Lasso Regression be used for non-linear regression problems? If yes, how?\n",
    "Lasso Regression for Non-linear Regression Problems: Lasso Regression is primarily designed for linear regression problems. However, it can be extended to handle non-linear regression problems by transforming the input features into non-linear forms before fitting the Lasso model. This can be done by adding polynomial features, using interaction terms, or applying other non-linear transformations to the original features. By transforming the features appropriately, Lasso Regression can be used effectively for non-linear regression tasks.\n",
    "\n",
    "### Q6. What is the difference between Ridge Regression and Lasso Regression?\n",
    "Difference Between Ridge Regression and Lasso Regression:\n",
    "\n",
    "### Q7. Can Lasso Regression handle multicollinearity in the input features? If yes, how?\n",
    "Regularization Term: Ridge Regression uses an L2 regularization term, which penalizes the squared magnitude of coefficients, while Lasso Regression uses an L1 regularization term, penalizing the absolute magnitude of coefficients.\n",
    "Feature Selection: Lasso Regression performs feature selection by setting some coefficients to exactly zero, leading to sparse models. In contrast, Ridge Regression only shrinks the coefficients towards zero but does not set them exactly to zero, typically keeping all features in the model.\n",
    "Solution Space: The solution space of Ridge Regression is a circle (or a sphere in higher dimensions), while the solution space of Lasso Regression is a diamond (or a polyhedron in higher dimensions). This geometric difference leads to the sparsity in Lasso's solution.\n",
    "Handling Multicollinearity in Lasso Regression: Yes, Lasso Regression can handle multicollinearity in input features to some extent. Multicollinearity refers to high correlations between predictor variables. Lasso Regression's L1 regularization tends to select one of the correlated features and set the coefficients of the others to zero, effectively choosing the most relevant features while discarding redundant ones. However, it's important to note that Lasso's ability to handle multicollinearity depends on the strength of correlations and the dataset's characteristics.\n",
    "\n",
    "### Q8. How do you choose the optimal value of the regularization parameter (lambda) in Lasso Regression?\n",
    "Choosing the Optimal Value of the Regularization Parameter (Lambda) in Lasso Regression: The optimal value of the regularization parameter (often denoted as λ or alpha) in Lasso Regression can be chosen using techniques like cross-validation or grid search:\n",
    "\n",
    "Cross-validation: Use techniques such as k-fold cross-validation to evaluate the model's performance for different values of lambda. Choose the lambda value that gives the best performance (e.g., lowest mean squared error or highest R-squared) on cross-validated data.\n",
    "Grid Search: Define a grid of lambda values and train the Lasso model with each lambda value. Evaluate the model's performance on a validation set or using cross-validation. Select the lambda value that optimizes the chosen performance metric.\n",
    "These methods help in selecting the optimal regularization parameter for Lasso Regression, balancing model complexity (number of features) and predictive performance."
   ]
  }
 ],
 "metadata": {
  "kernelspec": {
   "display_name": "Python 3 (ipykernel)",
   "language": "python",
   "name": "python3"
  },
  "language_info": {
   "codemirror_mode": {
    "name": "ipython",
    "version": 3
   },
   "file_extension": ".py",
   "mimetype": "text/x-python",
   "name": "python",
   "nbconvert_exporter": "python",
   "pygments_lexer": "ipython3",
   "version": "3.10.8"
  }
 },
 "nbformat": 4,
 "nbformat_minor": 5
}
