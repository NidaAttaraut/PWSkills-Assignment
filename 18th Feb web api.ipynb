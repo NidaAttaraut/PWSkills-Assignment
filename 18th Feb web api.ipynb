{
 "cells": [
  {
   "cell_type": "markdown",
   "id": "279d63b2-020e-4e38-a037-d397b7e82c5d",
   "metadata": {},
   "source": [
    "### Q1. What is an API? Give an example, where an API is used in real life.\n"
   ]
  },
  {
   "cell_type": "markdown",
   "id": "698a7717-fe04-4a11-8d59-58c4a74d27d5",
   "metadata": {},
   "source": [
    "An API, or Application Programming Interface, is a set of defined rules that enable different applications, services, or systems to communicate with each other. It allows one system to request access to another system's data or functionality, and receive the response in a structured and standardized way.\n",
    "\n",
    "A real-life example of API usage is when you book a flight online. When you search for flights on a travel website, it sends a request to the airline's API to retrieve the available flights, prices, and schedules. The API then responds with the relevant data, which is displayed on the website for you to book your flight."
   ]
  },
  {
   "cell_type": "markdown",
   "id": "100e18a9-643e-4b72-82d5-b4630bcd2ed4",
   "metadata": {},
   "source": [
    "### Q2. Give advantages and disadvantages of using API.\n"
   ]
  },
  {
   "cell_type": "markdown",
   "id": "844844ff-fbc1-4ec2-b3d7-67050e54eeb0",
   "metadata": {},
   "source": [
    "Advantages:\n",
    "\n",
    "Increased efficiency: APIs enable different systems to communicate with each other, automating many tasks and reducing manual effort.\n",
    "Improved scalability: APIs allow systems to scale more easily, as they can handle a large volume of requests and responses.\n",
    "Enhanced customer experience: APIs enable businesses to provide a more personalized and seamless experience to their customers.\n",
    "Cost savings: APIs can reduce costs by minimizing the need for manual integration and data exchange.\n",
    "Disadvantages:\n",
    "\n",
    "Security risks: APIs can be vulnerable to security threats, such as data breaches and unauthorized access.\n",
    "Dependence on third-party systems: APIs rely on third-party systems, which can be unreliable or experience downtime.\n",
    "Complexity: APIs can be complex to implement and manage, requiring specialized skills and resources.\n",
    "Cost: While APIs can reduce costs in the long run, they can also require significant upfront investment."
   ]
  },
  {
   "cell_type": "markdown",
   "id": "a7b88fba-3089-47dc-8e5f-7d4c33735b92",
   "metadata": {},
   "source": [
    "### Q3. What is a Web API? Differentiate between API and Web API.\n"
   ]
  },
  {
   "cell_type": "markdown",
   "id": "ce615d8b-5cec-4407-9821-35a08648bea3",
   "metadata": {},
   "source": [
    "A Web API is a type of API that is specifically designed for web-based applications and uses web protocols, such as HTTP, to communicate. Web APIs are typically used to expose data or functionality over the web, allowing different web applications to interact with each other.\n",
    "\n",
    "The key difference between an API and a Web API is that an API is a more general term that can refer to any type of interface, while a Web API is a specific type of API that is designed for web-based applications."
   ]
  },
  {
   "cell_type": "markdown",
   "id": "b4b401d1-6295-4873-ba75-645b172f0618",
   "metadata": {},
   "source": [
    "### Q4. Explain REST and SOAP Architecture. Mention shortcomings of SOAP.\n"
   ]
  },
  {
   "cell_type": "markdown",
   "id": "f9856839-9c0b-4c3b-a0f5-113f2642b5c6",
   "metadata": {},
   "source": [
    "REST (Representational State of Resource) Architecture:\n",
    "\n",
    "REST is an architectural style that defines how resources are accessed and manipulated over the web. It is based on the idea of resources, which are identified by URIs, and can be manipulated using a fixed set of operations.\n",
    "\n",
    "RESTful APIs are stateless, meaning that each request contains all the information necessary to complete the request. They also use caching to improve performance and reduce latency.\n",
    "\n",
    "SOAP (Simple Object Access Protocol) Architecture:\n",
    "\n",
    "SOAP is a protocol that defines how to structure and format data exchanged between systems. It uses XML to define the format of the data and relies on other protocols, such as HTTP or SMTP, for message negotiation.\n",
    "\n",
    "\n",
    "Shortcomings of SOAP:\n",
    "\n",
    "Complexity: SOAP is a complex protocol that requires a significant amount of overhead, making it slower and more resource-intensive than REST.\n",
    "Rigidity: SOAP is a rigid protocol that requires strict adherence to its rules and formats, making it less flexible than REST.\n",
    "Limited scalability: SOAP is not well-suited for large-scale applications, as it can become bottlenecked by the overhead of XML parsing and validation."
   ]
  },
  {
   "cell_type": "markdown",
   "id": "0125594a-fed8-4e8e-9c8f-531458fdbe7f",
   "metadata": {},
   "source": [
    "### Q5. Differentiate between REST and SOAP."
   ]
  },
  {
   "cell_type": "code",
   "execution_count": null,
   "id": "45ea7dba-a0bf-4ffa-9dfe-e272e976910b",
   "metadata": {},
   "outputs": [],
   "source": [
    "Here is a summary of the key differences between REST and SOAP:\n",
    "\n",
    "                REST\t                    SOAP\n",
    "Architecture\tStateless, resource-based\tStateful, message-based\n",
    "Protocol        HTTP\t                    XML-based\n",
    "Format\t        JSON, XML, etc.\t            XML\n",
    "Scalability\t    Highly scalable\t            Limited scalability\n",
    "Flexibility\t    Highly flexible\t            Rigid\n",
    "Performance\t    Fast and lightweight\t    Slow and resource-intensive\n"
   ]
  }
 ],
 "metadata": {
  "kernelspec": {
   "display_name": "Python 3 (ipykernel)",
   "language": "python",
   "name": "python3"
  },
  "language_info": {
   "codemirror_mode": {
    "name": "ipython",
    "version": 3
   },
   "file_extension": ".py",
   "mimetype": "text/x-python",
   "name": "python",
   "nbconvert_exporter": "python",
   "pygments_lexer": "ipython3",
   "version": "3.10.8"
  }
 },
 "nbformat": 4,
 "nbformat_minor": 5
}
