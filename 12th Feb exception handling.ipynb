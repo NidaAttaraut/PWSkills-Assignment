{
 "cells": [
  {
   "cell_type": "markdown",
   "id": "305313ce-36b7-4568-895c-eb10b7500c19",
   "metadata": {},
   "source": [
    "### Q1. What is an Exception in Python? Write the difference between Exceptions and Syntax errors\n",
    "\n",
    "In Python, an exception is an event that occurs during the execution of a program that disrupts the normal flow of instructions. Exceptions are used to handle errors that occur at runtime, such as division by zero, file not found, etc.\n",
    "\n",
    "Syntax errors, on the other hand, are errors that occur when the Python interpreter encounters invalid syntax in the code. Syntax errors are typically caught by the interpreter before the code is executed.\n",
    "\n",
    "Here's an example of a syntax error:"
   ]
  },
  {
   "cell_type": "code",
   "execution_count": 1,
   "id": "4d52aceb-490a-4de4-ad45-0cc6a29e6c10",
   "metadata": {},
   "outputs": [
    {
     "ename": "SyntaxError",
     "evalue": "incomplete input (1702739539.py, line 1)",
     "output_type": "error",
     "traceback": [
      "\u001b[0;36m  Cell \u001b[0;32mIn[1], line 1\u001b[0;36m\u001b[0m\n\u001b[0;31m    print(\"Hello World\"  # missing closing parenthesis\u001b[0m\n\u001b[0m                                                      ^\u001b[0m\n\u001b[0;31mSyntaxError\u001b[0m\u001b[0;31m:\u001b[0m incomplete input\n"
     ]
    }
   ],
   "source": [
    "print(\"Hello World\"  # missing closing parenthesis"
   ]
  },
  {
   "cell_type": "markdown",
   "id": "d24448c0-efc1-47e8-9e3e-da8117f75f3e",
   "metadata": {},
   "source": [
    "And here's an example of an exception:"
   ]
  },
  {
   "cell_type": "code",
   "execution_count": 2,
   "id": "34cc61cf-ecaf-46f2-b3a2-b4e7253a03f7",
   "metadata": {},
   "outputs": [
    {
     "ename": "ZeroDivisionError",
     "evalue": "division by zero",
     "output_type": "error",
     "traceback": [
      "\u001b[0;31m---------------------------------------------------------------------------\u001b[0m",
      "\u001b[0;31mZeroDivisionError\u001b[0m                         Traceback (most recent call last)",
      "Cell \u001b[0;32mIn[2], line 1\u001b[0m\n\u001b[0;32m----> 1\u001b[0m x \u001b[38;5;241m=\u001b[39m \u001b[38;5;241;43m5\u001b[39;49m\u001b[43m \u001b[49m\u001b[38;5;241;43m/\u001b[39;49m\u001b[43m \u001b[49m\u001b[38;5;241;43m0\u001b[39;49m  \u001b[38;5;66;03m# division by zero\u001b[39;00m\n",
      "\u001b[0;31mZeroDivisionError\u001b[0m: division by zero"
     ]
    }
   ],
   "source": [
    "x = 5 / 0  # division by zero"
   ]
  },
  {
   "cell_type": "markdown",
   "id": "769e9bc9-415e-4644-abfd-aef3849bf533",
   "metadata": {},
   "source": [
    "### Q2. What happens when an exception is not handled? Explain with an example\n",
    "\n",
    "When an exception is not handled, the program will terminate and display an error message. Here's an example:"
   ]
  },
  {
   "cell_type": "code",
   "execution_count": 3,
   "id": "15e64f85-c915-4485-8efa-53b4e0eefcf5",
   "metadata": {},
   "outputs": [
    {
     "ename": "ZeroDivisionError",
     "evalue": "division by zero",
     "output_type": "error",
     "traceback": [
      "\u001b[0;31m---------------------------------------------------------------------------\u001b[0m",
      "\u001b[0;31mZeroDivisionError\u001b[0m                         Traceback (most recent call last)",
      "Cell \u001b[0;32mIn[3], line 1\u001b[0m\n\u001b[0;32m----> 1\u001b[0m x \u001b[38;5;241m=\u001b[39m \u001b[38;5;241;43m5\u001b[39;49m\u001b[43m \u001b[49m\u001b[38;5;241;43m/\u001b[39;49m\u001b[43m \u001b[49m\u001b[38;5;241;43m0\u001b[39;49m  \u001b[38;5;66;03m# division by zero\u001b[39;00m\n\u001b[1;32m      2\u001b[0m \u001b[38;5;28mprint\u001b[39m(\u001b[38;5;124m\"\u001b[39m\u001b[38;5;124mThis line will not be executed\u001b[39m\u001b[38;5;124m\"\u001b[39m)\n",
      "\u001b[0;31mZeroDivisionError\u001b[0m: division by zero"
     ]
    }
   ],
   "source": [
    "x = 5 / 0  # division by zero\n",
    "print(\"This line will not be executed\")"
   ]
  },
  {
   "cell_type": "markdown",
   "id": "cc35d877-3dd0-47fe-9248-0f421e4331ff",
   "metadata": {},
   "source": [
    "### Q3. Which Python statements are used to catch and handle exceptions? Explain with an example\n",
    "\n",
    "The try and except statements are used to catch and handle exceptions in Python. The try block contains the code that might raise an exception, and the except block contains the code that will be executed if an exception is raised.\n",
    "\n",
    "Here's an example:"
   ]
  },
  {
   "cell_type": "code",
   "execution_count": 4,
   "id": "7195b801-a014-4503-abbe-e78a42dd3e3e",
   "metadata": {},
   "outputs": [
    {
     "name": "stdout",
     "output_type": "stream",
     "text": [
      "Cannot divide by zero!\n"
     ]
    }
   ],
   "source": [
    "try:\n",
    "    x = 5 / 0\n",
    "except ZeroDivisionError:\n",
    "    print(\"Cannot divide by zero!\")"
   ]
  },
  {
   "cell_type": "markdown",
   "id": "adac1f0e-f717-40cf-a563-9eb9bca898e9",
   "metadata": {},
   "source": [
    "n this example, the try block attempts to divide by zero, which raises a ZeroDivisionError exception. The except block catches this exception and prints a message instead of terminating the program."
   ]
  },
  {
   "cell_type": "markdown",
   "id": "6c3bb61c-40e6-4b66-8cef-8e97789560b1",
   "metadata": {},
   "source": [
    "### Q4. Explain with an example: try, except, else, finally, raise\n",
    "Here's an example that demonstrates the use of try, except, else, finally, and raise:"
   ]
  },
  {
   "cell_type": "code",
   "execution_count": 5,
   "id": "97d27528-1be7-4e47-b12e-966a81e01b36",
   "metadata": {},
   "outputs": [
    {
     "name": "stdout",
     "output_type": "stream",
     "text": [
      "Cannot divide by zero!\n",
      "Finally block executed\n",
      "Caught exception in outer block\n"
     ]
    }
   ],
   "source": [
    "def divide(x, y):\n",
    "    try:\n",
    "        result = x / y\n",
    "    except ZeroDivisionError:\n",
    "        print(\"Cannot divide by zero!\")\n",
    "        raise  # re-raise the exception\n",
    "    else:\n",
    "        print(\"Result:\", result)\n",
    "    finally:\n",
    "        print(\"Finally block executed\")\n",
    "\n",
    "try:\n",
    "    divide(5, 0)\n",
    "except ZeroDivisionError:\n",
    "    print(\"Caught exception in outer block\")"
   ]
  },
  {
   "cell_type": "markdown",
   "id": "e68a544a-6f71-4204-a087-ce0c41fb09ac",
   "metadata": {},
   "source": [
    "In this example, the divide function attempts to divide by zero, which raises a ZeroDivisionError exception. The except block catches this exception and prints a message, then re-raises the exception using the raise statement. The outer try block catches the re-raised exception and prints another message. The finally block is executed regardless of whether an exception was raised."
   ]
  },
  {
   "cell_type": "markdown",
   "id": "9755314b-9c69-4970-8bc4-815b413d14bd",
   "metadata": {},
   "source": [
    "### Q5. What are Custom Exceptions in Python? Why do we need Custom Exceptions? Explain with an example\n",
    "\n",
    "Custom exceptions are exceptions that are defined by the programmer to handle specific error conditions. We need custom exceptions to provide more informative error messages and to handle errors that are not covered by built-in exceptions.\n",
    "\n",
    "Here's an example of a custom exception:"
   ]
  },
  {
   "cell_type": "code",
   "execution_count": 7,
   "id": "50a58e92-949b-47f5-a94c-af7f4ca29fdb",
   "metadata": {},
   "outputs": [
    {
     "name": "stdout",
     "output_type": "stream",
     "text": [
      "Insufficient balance!\n"
     ]
    }
   ],
   "source": [
    "class InsufficientBalanceError(Exception):\n",
    "    pass\n",
    "\n",
    "def withdraw(balance, amount):\n",
    "    if amount > balance:\n",
    "        raise InsufficientBalanceError(\"Insufficient balance!\")\n",
    "    else:\n",
    "        print(\"Withdrawal successful\")\n",
    "\n",
    "try:\n",
    "    withdraw(100, 200)\n",
    "except InsufficientBalanceError as e:\n",
    "    print(e)"
   ]
  },
  {
   "cell_type": "code",
   "execution_count": 8,
   "id": "3045f441-53ad-4ef3-b9e8-4158250f6250",
   "metadata": {},
   "outputs": [],
   "source": [
    "### Q6. Create a custom exception class. Use this class to handle an exception"
   ]
  },
  {
   "cell_type": "code",
   "execution_count": 9,
   "id": "d57282cd-01f5-4ae4-81e7-92efcb11efb6",
   "metadata": {},
   "outputs": [
    {
     "name": "stdout",
     "output_type": "stream",
     "text": [
      "Invalid username: ab\n"
     ]
    }
   ],
   "source": [
    "class InvalidUsernameError(Exception):\n",
    "    def __init__(self, username):\n",
    "        self.username = username\n",
    "        super().__init__(f\"Invalid username: {username}\")\n",
    "\n",
    "def validate_username(username):\n",
    "    if len(username) < 3:\n",
    "        raise InvalidUsernameError(username)\n",
    "    else:\n",
    "        print(\"Username is valid\")\n",
    "\n",
    "try:\n",
    "    validate_username(\"ab\")\n",
    "except InvalidUsernameError as e:\n",
    "    print(e)"
   ]
  },
  {
   "cell_type": "code",
   "execution_count": null,
   "id": "0f6f9dbd-b26e-43d5-bf2c-6419569e70d1",
   "metadata": {},
   "outputs": [],
   "source": []
  }
 ],
 "metadata": {
  "kernelspec": {
   "display_name": "Python 3 (ipykernel)",
   "language": "python",
   "name": "python3"
  },
  "language_info": {
   "codemirror_mode": {
    "name": "ipython",
    "version": 3
   },
   "file_extension": ".py",
   "mimetype": "text/x-python",
   "name": "python",
   "nbconvert_exporter": "python",
   "pygments_lexer": "ipython3",
   "version": "3.10.8"
  }
 },
 "nbformat": 4,
 "nbformat_minor": 5
}
