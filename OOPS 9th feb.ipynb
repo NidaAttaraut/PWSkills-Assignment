{
 "cells": [
  {
   "cell_type": "markdown",
   "id": "43ffa2a5-8d91-4104-b7b5-7428859cace6",
   "metadata": {},
   "source": [
    "Q1. Create a vehicle class with an init method having instance variables as name_of_vehicle, max_speed and average_of_vehicle"
   ]
  },
  {
   "cell_type": "code",
   "execution_count": null,
   "id": "df8a4834-50e7-4147-86c6-baebbe947c6e",
   "metadata": {},
   "outputs": [],
   "source": [
    "class Vehicle:\n",
    "    def __init__(self, name_of_vehicle, max_speed, average_of_vehicle):\n",
    "        self.name_of_vehicle = name_of_vehicle\n",
    "        self.max_speed = max_speed\n",
    "        self.average_of_vehicle = average_of_vehicle\n",
    "\n",
    "    def __str__(self):\n",
    "        return f\"Name of Vehicle: {self.name_of_vehicle}, Max Speed: {self.max_speed}, Average of Vehicle: {self.average_of_vehicle}\"\n",
    "\n",
    "# Example usage:\n",
    "my_vehicle = Vehicle(\"Car\", 200, 50)\n",
    "print(my_vehicle)"
   ]
  },
  {
   "cell_type": "markdown",
   "id": "72a40806-bc22-4816-afcc-697b1dd1e7f9",
   "metadata": {},
   "source": [
    "Q2. Create a child class car from the vehicle class created in Que 1, which will inherit the vehicle class. Create a method named seating_capacity which takes capacity as an argument and returns the name of the vehicle and its seating capacity"
   ]
  },
  {
   "cell_type": "code",
   "execution_count": null,
   "id": "3add272b-0a42-4b80-9b02-e695031098c1",
   "metadata": {},
   "outputs": [],
   "source": []
  }
 ],
 "metadata": {
  "kernelspec": {
   "display_name": "",
   "name": ""
  },
  "language_info": {
   "name": ""
  }
 },
 "nbformat": 4,
 "nbformat_minor": 5
}
