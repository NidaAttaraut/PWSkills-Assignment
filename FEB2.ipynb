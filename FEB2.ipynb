{
 "cells": [
  {
   "cell_type": "markdown",
   "id": "4335d0a2-fd10-4700-bccb-0aaad8badc93",
   "metadata": {},
   "source": []
  },
  {
   "cell_type": "markdown",
   "id": "c30ac5ba-40b7-49d4-80b4-dc802dd15a82",
   "metadata": {},
   "source": [
    "### Q1. What are the characteristics of the tuples? Is tuple immutable?\n",
    "Tuples are ordered,indexed collections of data.\n",
    "Tuples can store duplicate values.\n",
    "Tuples can store values with multiply data types.\n",
    "Tuples are immutable.\n",
    "Tuples is useful for readonly operations like accessing elements.\n",
    "Tuples iteration are faster.\n",
    "Tuples need less memory.\n",
    "Tuples are enclosed in ()."
   ]
  },
  {
   "cell_type": "markdown",
   "id": "af6342c7-1440-4599-8e0a-ba313fa84af2",
   "metadata": {},
   "source": []
  },
  {
   "cell_type": "code",
   "execution_count": 3,
   "id": "bea8b3ba-5f18-4258-b816-230e9b6ab76b",
   "metadata": {},
   "outputs": [
    {
     "name": "stdout",
     "output_type": "stream",
     "text": [
      "4\n",
      "13\n"
     ]
    }
   ],
   "source": [
    "## Q2. What are the two tuple methods in python? Give an example of each method. Give a reason why\n",
    "## tuples have only two in-built methods as compared to Lists.\n",
    "\n",
    "#SOLUTION\n",
    "## Tuples have the following built-in function\n",
    "#count() - returns the number of times  a specific values occurs in tuples\n",
    "tuple=(1,2,3,4,3,5,5,3,2,5,3,6,8,7)\n",
    "x = tuple.count(3)\n",
    "print(x)\n",
    "\n",
    "#index() - searches the tuple for a specified value and returns the position of where it was found.\n",
    "tuple=(1,2,3,4,3,5,5,3,2,5,3,6,8,7)\n",
    "x = tuple.index(7)\n",
    "print(x)\n",
    "\n",
    "## Tuples are immutable data structures in python. Elements of tuples cannot be modified once created,therefore they have only two \n",
    "# built in functions"
   ]
  },
  {
   "cell_type": "code",
   "execution_count": 5,
   "id": "0eb77b07-24a2-448f-ac82-93a041c9ae2e",
   "metadata": {},
   "outputs": [
    {
     "name": "stdout",
     "output_type": "stream",
     "text": [
      "The original list is[1, 1, 1, 2, 1, 3, 1, 4, 2, 1, 2, 2, 2, 3, 2, 4, 3, 1, 3, 2, 3, 3, 3, 4, 4, 1, 4, 2, 4, 3, 4, 4]\n",
      "The new list after removing duplicates is[1, 2, 3, 4]\n"
     ]
    }
   ],
   "source": [
    "##Q3. Which collection datatypes in python do not allow duplicate items? Write a code using a set to remove\n",
    "##duplicates from the given list.\n",
    "\n",
    "#SOLUTION:\n",
    "List = [1, 1, 1, 2, 1, 3, 1, 4, 2, 1, 2, 2, 2, 3, 2, 4, 3, 1, 3, 2, 3, 3, 3, 4, 4, 1, 4, 2, 4, 3, 4, 4]\n",
    "\n",
    "#Set datatype in python doesnot allow duplicate items.\n",
    "\n",
    "List = [1, 1, 1, 2, 1, 3, 1, 4, 2, 1, 2, 2, 2, 3, 2, 4, 3, 1, 3, 2, 3, 3, 3, 4, 4, 1, 4, 2, 4, 3, 4, 4]\n",
    "print(\"The original list is\" + str(List))\n",
    "\n",
    "NewList=list(set(List))\n",
    "print(\"The new list after removing duplicates is\" + str(NewList) )\n"
   ]
  },
  {
   "cell_type": "code",
   "execution_count": 8,
   "id": "3e05aa85-6eb5-4b22-87ca-c0c538a21e79",
   "metadata": {},
   "outputs": [
    {
     "name": "stdout",
     "output_type": "stream",
     "text": [
      "{1, 2, 3, 4, 5, 6, 7, 8}\n",
      "{1, 2, 3, 4, 'a', 'd', 'c', 'b'}\n"
     ]
    }
   ],
   "source": [
    "##Q4. Explain the difference between the union() and update() methods for a set. Give an example of each method.\n",
    "\n",
    "#SOLUTION\n",
    "#Union creates a new set that contains all items form the original set, and all items from the specified set(s).\n",
    "x = {1,2,3,4}\n",
    "y = {5,6,7,8}\n",
    "z = x.union(y)\n",
    "print(z)\n",
    "\n",
    "#Update method is used to update the current set, by adding items from another set(or any other iterable)\n",
    "x = {1,2,3,4}\n",
    "y = {\"a\",\"b\",\"c\",\"d\"}\n",
    "x.update(y)\n",
    "print(x)"
   ]
  },
  {
   "cell_type": "markdown",
   "id": "53fd0507-41d8-4f04-bd7b-6e9f9b3f7a90",
   "metadata": {},
   "source": []
  },
  {
   "cell_type": "markdown",
   "id": "eb711dc3-8f97-4847-9e36-8a3216e10e07",
   "metadata": {},
   "source": [
    "Q5. What is a dictionary? Give an example. Also, state whether a dictionary is ordered or unordered.\n",
    "\n",
    "A dictionary in python is a collection of key- value pairs. The dictionary keys must be unique and the values can be anything. It is an ordered collection of items."
   ]
  },
  {
   "cell_type": "code",
   "execution_count": null,
   "id": "1741bbe5-0187-41b0-b129-fde2b47833b2",
   "metadata": {},
   "outputs": [],
   "source": []
  },
  {
   "cell_type": "code",
   "execution_count": 3,
   "id": "0d5052d9-a8e2-4a90-9811-32faa948ec5d",
   "metadata": {},
   "outputs": [
    {
     "name": "stdout",
     "output_type": "stream",
     "text": [
      "{1: {'name': 'john', 'rollno': 1, 'gender': 'male'}, 2: {'name': 'rose', 'rollno': 2, 'gender': 'female'}, 3: {'name': 'jack', 'rollno': 3, 'gender': 'male'}}\n"
     ]
    }
   ],
   "source": [
    "##Q6. Can we create a nested dictionary? If so, please give an example by creating a simple one-level nested dictionary\n",
    "\n",
    "# SOLUTION\n",
    "## In python, a nested dictionary is a dictionary inside a dictionary. Its a collection of dictionaries into one single dictionary.\n",
    "students={1:{'name':'john','rollno':1,'gender':'male'},\n",
    "          2:{'name':'rose','rollno':2,'gender':'female'},\n",
    "          3:{'name':'jack','rollno':3,'gender':'male'}}\n",
    "print(students)"
   ]
  },
  {
   "cell_type": "markdown",
   "id": "2bda9490-b59b-408a-9ac2-65843b923935",
   "metadata": {},
   "source": []
  },
  {
   "cell_type": "code",
   "execution_count": 16,
   "id": "db2aff4e-75b8-4757-aea0-87c89b793528",
   "metadata": {},
   "outputs": [
    {
     "name": "stdout",
     "output_type": "stream",
     "text": [
      "The topics are : ['Python', 'Machine Learning', 'Deep Learning']\n"
     ]
    }
   ],
   "source": [
    "#Q7. Using setdefault() method, create key named topics in the given dictionary and also add the value of\n",
    "#the key as this list ['Python', 'Machine Learning’, 'Deep Learning']\n",
    "#dict1 = {'language' : 'Python', 'course': 'Data Science Masters'}\n",
    " \n",
    "# Solution:\n",
    "dict1 = {'language' : 'Python', 'course': 'Data Science Masters'}\n",
    "list = ['Python', 'Machine Learning', 'Deep Learning' ]\n",
    "topics = dict1.setdefault('topics', list)\n",
    "print(\"The topics are :\" , topics)"
   ]
  },
  {
   "cell_type": "code",
   "execution_count": null,
   "id": "acdc0c37-bd46-4b1f-b8c4-37b24b7e450e",
   "metadata": {},
   "outputs": [],
   "source": []
  },
  {
   "cell_type": "code",
   "execution_count": 1,
   "id": "69e6a5ac-9731-45b3-b8a1-a8a4f5abb5f0",
   "metadata": {},
   "outputs": [
    {
     "name": "stdout",
     "output_type": "stream",
     "text": [
      "dict_keys(['Sport', 'Teams'])\n",
      "<class 'dict_keys'>\n",
      "dict_values(['Cricket', ['India', 'Australia', 'England', 'South Africa', 'Sri Lanka', 'New Zealand']])\n",
      "<class 'dict_values'>\n",
      "dict_items([('Sport', 'Cricket'), ('Teams', ['India', 'Australia', 'England', 'South Africa', 'Sri Lanka', 'New Zealand'])])\n",
      "<class 'dict_items'>\n"
     ]
    }
   ],
   "source": [
    "#Q8. What are the three view objects in dictionaries? Use the three in-built methods in python to display\n",
    "#these three view objects for the given dictionary.\n",
    "#dict1 = {'Sport': 'Cricket' , 'Teams': ['India', 'Australia', 'England', 'South Africa', 'Sri Lanka', 'New Zealand']}\n",
    "\n",
    "#Solution\n",
    "#The three view objects in dictionaray are keys, values and items.\n",
    "dict1 = {'Sport': 'Cricket' , 'Teams': ['India', 'Australia', 'England', 'South Africa', 'Sri Lanka', 'New Zealand']}\n",
    "k =  dict1.keys()\n",
    "print(k)\n",
    "print(type(k))\n",
    "\n",
    "v = dict1.values()\n",
    "print(v)\n",
    "print(type(v))\n",
    "\n",
    "i = dict1.items()\n",
    "print(i)\n",
    "print(type(i))"
   ]
  },
  {
   "cell_type": "code",
   "execution_count": null,
   "id": "d5716a19-3c1e-462e-821c-ca908ce864f4",
   "metadata": {},
   "outputs": [],
   "source": []
  }
 ],
 "metadata": {
  "kernelspec": {
   "display_name": "Python 3 (ipykernel)",
   "language": "python",
   "name": "python3"
  },
  "language_info": {
   "codemirror_mode": {
    "name": "ipython",
    "version": 3
   },
   "file_extension": ".py",
   "mimetype": "text/x-python",
   "name": "python",
   "nbconvert_exporter": "python",
   "pygments_lexer": "ipython3",
   "version": "3.10.8"
  }
 },
 "nbformat": 4,
 "nbformat_minor": 5
}
