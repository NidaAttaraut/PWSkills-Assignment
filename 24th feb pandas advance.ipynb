{
 "cells": [
  {
   "cell_type": "markdown",
   "id": "081d40eb-3b13-43d4-89dc-4b3dc68aac50",
   "metadata": {},
   "source": [
    "### Q1. List any five functions of the pandas library with execution."
   ]
  },
  {
   "cell_type": "code",
   "execution_count": null,
   "id": "f02130ec-b0a1-4a7f-be82-8cf1801925c8",
   "metadata": {},
   "outputs": [],
   "source": [
    "### read_csv(): reads a CSV file into a DataFrame\n",
    "\n",
    "import pandas as pd\n",
    "df = pd.read_csv('data.csv')\n",
    "print(df)"
   ]
  },
  {
   "cell_type": "code",
   "execution_count": 4,
   "id": "2ef88aef-c1cf-4ff2-84a3-9dfda4ef975c",
   "metadata": {},
   "outputs": [
    {
     "name": "stdout",
     "output_type": "stream",
     "text": [
      "   A  B\n",
      "0  1  4\n",
      "1  2  5\n",
      "2  3  6\n"
     ]
    }
   ],
   "source": [
    "### head(): returns the first few rows of a DataFrame\n",
    "import pandas as pd\n",
    "df = pd.DataFrame({'A': [1, 2, 3], 'B': [4, 5, 6]})\n",
    "print(df.head())"
   ]
  },
  {
   "cell_type": "code",
   "execution_count": 6,
   "id": "e8c4884a-25e8-4d9f-a614-024574b42590",
   "metadata": {},
   "outputs": [
    {
     "name": "stdout",
     "output_type": "stream",
     "text": [
      "<class 'pandas.core.frame.DataFrame'>\n",
      "RangeIndex: 3 entries, 0 to 2\n",
      "Data columns (total 2 columns):\n",
      " #   Column  Non-Null Count  Dtype\n",
      "---  ------  --------------  -----\n",
      " 0   A       3 non-null      int64\n",
      " 1   B       3 non-null      int64\n",
      "dtypes: int64(2)\n",
      "memory usage: 176.0 bytes\n"
     ]
    }
   ],
   "source": [
    "### info(): prints a concise summary of a DataFrame\n",
    "\n",
    "import pandas as pd\n",
    "df = pd.DataFrame({'A': [1, 2, 3], 'B': [4, 5, 6]})\n",
    "df.info()"
   ]
  },
  {
   "cell_type": "code",
   "execution_count": 7,
   "id": "71b3c72c-7496-48aa-918d-79198ffae350",
   "metadata": {},
   "outputs": [
    {
     "name": "stdout",
     "output_type": "stream",
     "text": [
      "    B\n",
      "A    \n",
      "1   4\n",
      "2  10\n",
      "3   6\n"
     ]
    }
   ],
   "source": [
    "### groupby(): groups a DataFrame by one or more columns and performs aggregation operations\n",
    "\n",
    "import pandas as pd\n",
    "df = pd.DataFrame({'A': [1, 2, 2, 3], 'B': [4, 5, 5, 6]})\n",
    "grouped = df.groupby('A')\n",
    "print(grouped.sum())"
   ]
  },
  {
   "cell_type": "code",
   "execution_count": 8,
   "id": "579ce63b-f286-4604-9a53-65d4ef8e39f1",
   "metadata": {},
   "outputs": [
    {
     "name": "stdout",
     "output_type": "stream",
     "text": [
      "B    4    5     6\n",
      "A                \n",
      "1  7.0  NaN   NaN\n",
      "2  NaN  8.5   NaN\n",
      "3  NaN  NaN  10.0\n"
     ]
    }
   ],
   "source": [
    "### pivot_table(): creates a pivot table from a DataFrame\n",
    "import pandas as pd\n",
    "df = pd.DataFrame({'A': [1, 2, 2, 3], 'B': [4, 5, 5, 6], 'C': [7, 8, 9, 10]})\n",
    "pivot = pd.pivot_table(df, values='C', index='A', columns='B')\n",
    "print(pivot)\n",
    "\n"
   ]
  },
  {
   "cell_type": "markdown",
   "id": "41924798-2839-4ed7-815f-f417be12f344",
   "metadata": {},
   "source": [
    "### Q2. Given a Pandas DataFrame df with columns 'A', 'B', and 'C', write a Python function to re-index the DataFrame with a new index that starts from 1 and increments by 2 for each row."
   ]
  },
  {
   "cell_type": "code",
   "execution_count": 9,
   "id": "40ce65bb-84a8-48b2-a5b3-72a58e10ec5c",
   "metadata": {},
   "outputs": [
    {
     "name": "stdout",
     "output_type": "stream",
     "text": [
      "   A  B  C\n",
      "1  1  4  7\n",
      "3  2  5  8\n",
      "5  3  6  9\n"
     ]
    }
   ],
   "source": [
    "import pandas as pd\n",
    "\n",
    "def reindex_df(df):\n",
    "    df.index = range(1, len(df) * 2 + 1, 2)\n",
    "    return df\n",
    "\n",
    "df = pd.DataFrame({'A': [1, 2, 3], 'B': [4, 5, 6], 'C': [7, 8, 9]})\n",
    "print(reindex_df(df))"
   ]
  },
  {
   "cell_type": "markdown",
   "id": "c1cb5fb2-d50e-490b-a96c-fb3c5ec7f52f",
   "metadata": {},
   "source": [
    "### Q3. You have a Pandas DataFrame df with a column named 'Values'. Write a Python function that iterates over the DataFrame and calculates the sum of the first three values in the 'Values' column."
   ]
  },
  {
   "cell_type": "code",
   "execution_count": 10,
   "id": "0f65972e-e1e9-47d6-bac7-f77b01af11f1",
   "metadata": {},
   "outputs": [
    {
     "name": "stdout",
     "output_type": "stream",
     "text": [
      "60\n"
     ]
    }
   ],
   "source": [
    "import pandas as pd\n",
    "\n",
    "def sum_first_three_values(df):\n",
    "    sum = 0\n",
    "    for i, row in df.head(3).iterrows():\n",
    "        sum += row['Values']\n",
    "    print(sum)\n",
    "\n",
    "df = pd.DataFrame({'Values': [10, 20, 30, 40, 50]})\n",
    "sum_first_three_values(df)"
   ]
  },
  {
   "cell_type": "markdown",
   "id": "66950faf-55e0-4d93-8e5e-d65b81d02439",
   "metadata": {},
   "source": [
    "### Q4. Given a Pandas DataFrame df with a column 'Text', write a Python function to create a new column 'Word_Count' that contains the number of words in each row of the 'Text' column."
   ]
  },
  {
   "cell_type": "code",
   "execution_count": 11,
   "id": "8afe6275-acda-411c-913a-7c042f6b64f0",
   "metadata": {},
   "outputs": [
    {
     "name": "stdout",
     "output_type": "stream",
     "text": [
      "             Text  Word_Count\n",
      "0     hello world           2\n",
      "1  this is a test           4\n",
      "2     foo bar baz           3\n"
     ]
    }
   ],
   "source": [
    "import pandas as pd\n",
    "\n",
    "def add_word_count_column(df):\n",
    "    df['Word_Count'] = df['Text'].apply(lambda x: len(x.split()))\n",
    "    return df\n",
    "\n",
    "df = pd.DataFrame({'Text': ['hello world', 'this is a test', 'foo bar baz']})\n",
    "print(add_word_count_column(df))"
   ]
  },
  {
   "cell_type": "markdown",
   "id": "70213fa3-bbab-421f-af3f-3f39ddb87162",
   "metadata": {},
   "source": [
    "### Q5. How are DataFrame.size() and DataFrame.shape() different?\n",
    "\n",
    "DataFrame.size() returns the total number of elements in the DataFrame, while DataFrame.shape() returns a tuple representing the dimensionality of the DataFrame (number of rows, number of columns)."
   ]
  },
  {
   "cell_type": "code",
   "execution_count": 12,
   "id": "e7b7ed07-9ba5-4551-bf0c-92ad2f82a0e2",
   "metadata": {},
   "outputs": [
    {
     "name": "stdout",
     "output_type": "stream",
     "text": [
      "6\n",
      "(3, 2)\n"
     ]
    }
   ],
   "source": [
    "import pandas as pd\n",
    "df = pd.DataFrame({'A': [1, 2, 3], 'B': [4, 5, 6]})\n",
    "print(df.size)  # Output: 6\n",
    "print(df.shape)  # Output: (3, 2)"
   ]
  },
  {
   "cell_type": "markdown",
   "id": "7102ea49-8c26-4e8f-b6f3-1204d8dbf0df",
   "metadata": {},
   "source": [
    "### Q6. Which function of pandas do we use to read an excel file?\n",
    "\n",
    "We use the read_excel() function to read an Excel file into a Pandas DataFrame."
   ]
  },
  {
   "cell_type": "code",
   "execution_count": null,
   "id": "568bceb2-a7a5-4419-bfdf-d69229542ae5",
   "metadata": {},
   "outputs": [],
   "source": [
    "import pandas as pd\n",
    "df = pd.read_excel('example.xlsx')\n",
    "print(df)"
   ]
  },
  {
   "cell_type": "markdown",
   "id": "9877c655-07fc-4352-8ddc-931f41e95cfb",
   "metadata": {},
   "source": [
    "### Q7. You have a Pandas DataFrame df that contains a column named 'Email' that contains email addresses in the format 'username@domain.com'. Write a Python function that creates a new column 'Username' in df that contains only the username part of each email address."
   ]
  },
  {
   "cell_type": "code",
   "execution_count": 13,
   "id": "5d3172c1-f350-4c9e-9f2b-28ef1c884759",
   "metadata": {},
   "outputs": [
    {
     "name": "stdout",
     "output_type": "stream",
     "text": [
      "                  Email  Username\n",
      "0  john.doe@example.com  john.doe\n",
      "1  jane.doe@example.com  jane.doe\n"
     ]
    }
   ],
   "source": [
    "import pandas as pd\n",
    "\n",
    "def extract_username(df):\n",
    "    df['Username'] = df['Email'].apply(lambda x: x.split('@')[0])\n",
    "    return df\n",
    "\n",
    "df = pd.DataFrame({'Email': ['john.doe@example.com', 'jane.doe@example.com']})\n",
    "print(extract_username(df))"
   ]
  },
  {
   "cell_type": "markdown",
   "id": "c7f283ed-6e1f-4af1-889e-42f95b1194cc",
   "metadata": {},
   "source": [
    "### Q8. You have a Pandas DataFrame df with columns 'A', 'B', and 'C'. Write a Python function that selects all rows where the value in column 'A' is greater than 5 and the value in column 'B' is less than 10."
   ]
  },
  {
   "cell_type": "code",
   "execution_count": 14,
   "id": "b46c035e-54d7-42a8-8507-77ec438fbbd3",
   "metadata": {},
   "outputs": [
    {
     "name": "stdout",
     "output_type": "stream",
     "text": [
      "   A  B  C\n",
      "1  8  2  7\n",
      "2  6  9  4\n"
     ]
    }
   ],
   "source": [
    "import pandas as pd\n",
    "\n",
    "def select_rows(df):\n",
    "    return df[(df['A'] > 5) & (df['B'] < 10)]\n",
    "\n",
    "df = pd.DataFrame({'A': [3, 8, 6, 2], 'B': [5, 2, 9, 3], 'C': [1, 7, 4, 5]})\n",
    "print(select_rows(df))"
   ]
  },
  {
   "cell_type": "markdown",
   "id": "267f4486-82c7-4a6e-bf29-6fdcb9d74116",
   "metadata": {},
   "source": [
    "### Q9. Given a Pandas DataFrame df with a column 'Values', write a Python function to calculate the mean, median, and standard deviation of the values in the 'Values' column."
   ]
  },
  {
   "cell_type": "code",
   "execution_count": 15,
   "id": "09fb5388-78f0-4489-b311-f57a421632b9",
   "metadata": {},
   "outputs": [
    {
     "name": "stdout",
     "output_type": "stream",
     "text": [
      "Mean: 30.0, Median: 30.0, Standard Deviation: 15.811388300841896\n"
     ]
    }
   ],
   "source": [
    "import pandas as pd\n",
    "\n",
    "def calculate_stats(df):\n",
    "    mean = df['Values'].mean()\n",
    "    median = df['Values'].median()\n",
    "    std = df['Values'].std()\n",
    "    print(f'Mean: {mean}, Median: {median}, Standard Deviation: {std}')\n",
    "\n",
    "df = pd.DataFrame({'Values': [10, 20, 30, 40, 50]})\n",
    "calculate_stats(df)"
   ]
  },
  {
   "cell_type": "markdown",
   "id": "d18bda21-e4fe-4527-8801-ae07f07bf5c4",
   "metadata": {},
   "source": [
    "### Q10. Given a Pandas DataFrame df with a column 'Sales' and a column 'Date', write a Python function to create a new column 'MovingAverage' that contains the moving average of the sales for the past 7 days for each row in the DataFrame."
   ]
  },
  {
   "cell_type": "code",
   "execution_count": 16,
   "id": "e7d3441a-8778-4e48-8fc0-93ec7ecaadac",
   "metadata": {},
   "outputs": [
    {
     "name": "stdout",
     "output_type": "stream",
     "text": [
      "         Date  Sales  MovingAverage\n",
      "0  2023-01-01     10            NaN\n",
      "1  2023-01-02     20            NaN\n",
      "2  2023-01-03     30            NaN\n",
      "3  2023-01-04     40            NaN\n",
      "4  2023-01-05     50            NaN\n",
      "5  2023-01-06     60            NaN\n",
      "6  2023-01-07     70           40.0\n",
      "7  2023-01-08     80           50.0\n"
     ]
    }
   ],
   "source": [
    "import pandas as pd\n",
    "\n",
    "def calculate_moving_average(df):\n",
    "    df['MovingAverage'] = df['Sales'].rolling(window=7).mean()\n",
    "    return df\n",
    "\n",
    "df = pd.DataFrame({'Date': ['2023-01-01', '2023-01-02', '2023-01-03', '2023-01-04', '2023-01-05', '2023-01-06', '2023-01-07', '2023-01-08'], \n",
    "                   'Sales': [10, 20, 30, 40, 50, 60, 70, 80]})\n",
    "print(calculate_moving_average(df))"
   ]
  },
  {
   "cell_type": "markdown",
   "id": "c46266fe-4780-4c6a-9d64-d9844493dfa5",
   "metadata": {},
   "source": [
    "### Q11. You have a Pandas DataFrame df with a column 'Date'. Write a Python function that creates a new column 'Weekday' in the DataFrame. The 'Weekday' column should contain the weekday name (e.g. Monday, Tuesday) corresponding to each date in the 'Date' column."
   ]
  },
  {
   "cell_type": "code",
   "execution_count": 17,
   "id": "bc20367c-91c8-4053-b0af-7ca80ec2404c",
   "metadata": {},
   "outputs": [
    {
     "name": "stdout",
     "output_type": "stream",
     "text": [
      "        Date    Weekday\n",
      "0 2023-01-01     Sunday\n",
      "1 2023-01-02     Monday\n",
      "2 2023-01-03    Tuesday\n",
      "3 2023-01-04  Wednesday\n",
      "4 2023-01-05   Thursday\n"
     ]
    }
   ],
   "source": [
    "import pandas as pd\n",
    "\n",
    "def add_weekday_column(df):\n",
    "    df['Date'] = pd.to_datetime(df['Date'])\n",
    "    df['Weekday'] = df['Date'].dt.day_name()\n",
    "    return df\n",
    "\n",
    "df = pd.DataFrame({'Date': ['2023-01-01', '2023-01-02', '2023-01-03', '2023-01-04', '2023-01-05']})\n",
    "print(add_weekday_column(df))"
   ]
  },
  {
   "cell_type": "markdown",
   "id": "3e32adfd-8e0d-4d44-b646-6656c29f9a53",
   "metadata": {},
   "source": [
    "### Q12. Given a Pandas DataFrame df with a column 'Date' that contains timestamps, write a Python function to select all rows where the date is between '2023-01-01' and '2023-01-31'."
   ]
  },
  {
   "cell_type": "code",
   "execution_count": 18,
   "id": "10f9b091-148f-4120-a20b-e564700725e3",
   "metadata": {},
   "outputs": [
    {
     "name": "stdout",
     "output_type": "stream",
     "text": [
      "        Date\n",
      "1 2023-01-01\n",
      "2 2023-01-02\n",
      "3 2023-01-31\n"
     ]
    }
   ],
   "source": [
    "import pandas as pd\n",
    "\n",
    "def select_date_range(df):\n",
    "    start_date = '2023-01-01'\n",
    "    end_date = '2023-01-31'\n",
    "    df['Date'] = pd.to_datetime(df['Date'])\n",
    "    return df[(df['Date'] >= start_date) & (df['Date'] <= end_date)]\n",
    "\n",
    "df = pd.DataFrame({'Date': ['2022-12-31', '2023-01-01', '2023-01-02', '2023-01-31', '2023-02-01']})\n",
    "print(select_date_range(df))"
   ]
  },
  {
   "cell_type": "markdown",
   "id": "327075b6-bfa3-4bc3-867c-2e72d0e3c394",
   "metadata": {},
   "source": [
    "### Q13. To use the basic functions of pandas, what is the first and foremost necessary library that needs to be imported?\n",
    "\n",
    "The first and foremost necessary library that needs to be imported is pandas. You can import it using the following code:"
   ]
  },
  {
   "cell_type": "code",
   "execution_count": 19,
   "id": "3bfa057c-5e02-471f-b547-433a27fdbf66",
   "metadata": {},
   "outputs": [],
   "source": [
    "import pandas as pd"
   ]
  },
  {
   "cell_type": "markdown",
   "id": "7ea4a70f-3cef-468f-99dd-eec7ee68d4bd",
   "metadata": {},
   "source": [
    "This imports the pandas library and assigns it the alias pd, which is commonly used in Pandas code."
   ]
  },
  {
   "cell_type": "code",
   "execution_count": null,
   "id": "ed8ff574-75a3-489b-aed8-1a49b41b0105",
   "metadata": {},
   "outputs": [],
   "source": []
  }
 ],
 "metadata": {
  "kernelspec": {
   "display_name": "Python 3 (ipykernel)",
   "language": "python",
   "name": "python3"
  },
  "language_info": {
   "codemirror_mode": {
    "name": "ipython",
    "version": 3
   },
   "file_extension": ".py",
   "mimetype": "text/x-python",
   "name": "python",
   "nbconvert_exporter": "python",
   "pygments_lexer": "ipython3",
   "version": "3.10.8"
  }
 },
 "nbformat": 4,
 "nbformat_minor": 5
}
