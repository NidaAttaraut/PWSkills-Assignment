{
 "cells": [
  {
   "cell_type": "markdown",
   "id": "d9674d25-ddf1-4227-a02d-a21322cf4728",
   "metadata": {},
   "source": [
    "### Q1. Create a Pandas Series that contains the following data: 4, 8, 15, 16, 23, and 42. Then, print the series."
   ]
  },
  {
   "cell_type": "code",
   "execution_count": 1,
   "id": "0fa9505a-fc82-4cd7-bf33-639654ffdf0f",
   "metadata": {},
   "outputs": [
    {
     "name": "stdout",
     "output_type": "stream",
     "text": [
      "0     4\n",
      "1     8\n",
      "2    15\n",
      "3    16\n",
      "4    23\n",
      "5    42\n",
      "dtype: int64\n"
     ]
    }
   ],
   "source": [
    "import pandas as pd\n",
    "\n",
    "series = pd.Series([4, 8, 15, 16, 23, 42])\n",
    "print(series)"
   ]
  },
  {
   "cell_type": "markdown",
   "id": "be49b955-d6ce-4ca9-a16b-ade6f9271b9e",
   "metadata": {},
   "source": [
    "### Q2. Create a variable of list type containing 10 elements in it, and apply pandas.Series function on the variable print it."
   ]
  },
  {
   "cell_type": "code",
   "execution_count": 3,
   "id": "65f4b53b-d6ff-43f5-a02c-e7a8174a2be5",
   "metadata": {},
   "outputs": [
    {
     "name": "stdout",
     "output_type": "stream",
     "text": [
      "0     1\n",
      "1     2\n",
      "2     3\n",
      "3     4\n",
      "4     5\n",
      "5     6\n",
      "6     7\n",
      "7     8\n",
      "8     9\n",
      "9    10\n",
      "dtype: int64\n"
     ]
    }
   ],
   "source": [
    "import pandas as pd\n",
    "\n",
    "my_list = [1, 2, 3, 4, 5, 6, 7, 8, 9, 10]\n",
    "series = pd.Series(my_list)\n",
    "print(series)"
   ]
  },
  {
   "cell_type": "markdown",
   "id": "9f988237-7cc1-411f-a315-5ca4dbdc2567",
   "metadata": {},
   "source": [
    "### Q3. Create a Pandas DataFrame that contains the following data:"
   ]
  },
  {
   "cell_type": "code",
   "execution_count": 4,
   "id": "c087769a-2fbf-434d-a4f5-6871566628dd",
   "metadata": {},
   "outputs": [
    {
     "name": "stdout",
     "output_type": "stream",
     "text": [
      "    Name  Age  Score\n",
      "0   John   25     90\n",
      "1   Mary   31     85\n",
      "2  David   42     95\n",
      "3   Jane   28     88\n"
     ]
    }
   ],
   "source": [
    "import pandas as pd\n",
    "\n",
    "data = {'Name': ['John', 'Mary', 'David', 'Jane'],\n",
    "        'Age': [25, 31, 42, 28],\n",
    "        'Score': [90, 85, 95, 88]}\n",
    "df = pd.DataFrame(data)\n",
    "print(df)"
   ]
  },
  {
   "cell_type": "markdown",
   "id": "c8f4eef0-64d5-4808-b543-03e687166757",
   "metadata": {},
   "source": [
    "### Q4. What is ‘DataFrame’ in pandas and how is it different from pandas.series? Explain with an example.\n",
    "\n",
    "A Pandas DataFrame is a two-dimensional table of data with columns of potentially different types. It is similar to an Excel spreadsheet or a table in a relational database.\n",
    "\n",
    "A Pandas Series, on the other hand, is a one-dimensional labeled array of values.\n",
    "\n",
    "Here is an example:"
   ]
  },
  {
   "cell_type": "code",
   "execution_count": 5,
   "id": "d48a7865-1538-46d7-91bc-9f1bc11c0f03",
   "metadata": {},
   "outputs": [
    {
     "name": "stdout",
     "output_type": "stream",
     "text": [
      "0    1\n",
      "1    2\n",
      "2    3\n",
      "3    4\n",
      "4    5\n",
      "dtype: int64\n",
      "   A  B  C\n",
      "0  1  4  7\n",
      "1  2  5  8\n",
      "2  3  6  9\n"
     ]
    }
   ],
   "source": [
    "import pandas as pd\n",
    "\n",
    "# Create a Series\n",
    "series = pd.Series([1, 2, 3, 4, 5])\n",
    "print(series)\n",
    "\n",
    "# Create a DataFrame\n",
    "data = {'A': [1, 2, 3], 'B': [4, 5, 6], 'C': [7, 8, 9]}\n",
    "df = pd.DataFrame(data)\n",
    "print(df)"
   ]
  },
  {
   "cell_type": "markdown",
   "id": "bb027ccb-e76c-4aac-b2cf-daafc6cf21c4",
   "metadata": {},
   "source": [
    "### Q5. What are some common functions you can use to manipulate data in a Pandas DataFrame? Can you give an example of when you might use one of these functions?\n",
    "\n",
    "Some common functions for manipulating data in a Pandas DataFrame include:\n",
    "\n",
    "drop(): drop rows or columns from the DataFrame\n",
    "filter(): filter rows based on a condition\n",
    "groupby(): group rows by one or more columns and perform aggregation operations\n",
    "merge(): merge two DataFrames based on a common column\n",
    "pivot_table(): create a pivot table from a DataFrame\n",
    "sort_values(): sort rows by one or more columns\n",
    "apply(): apply a function to each row or column of the DataFrame\n",
    "Here is an example of using the drop() function:"
   ]
  },
  {
   "cell_type": "code",
   "execution_count": 6,
   "id": "351e9c74-04df-4b2e-9572-dbcd1e7ea0c5",
   "metadata": {},
   "outputs": [
    {
     "name": "stdout",
     "output_type": "stream",
     "text": [
      "    Name  Age  Score\n",
      "0   John   25     90\n",
      "2  David   42     95\n",
      "3   Jane   28     88\n"
     ]
    }
   ],
   "source": [
    "import pandas as pd\n",
    "\n",
    "data = {'Name': ['John', 'Mary', 'David', 'Jane'],\n",
    "        'Age': [25, 31, 42, 28],\n",
    "        'Score': [90, 85, 95, 88]}\n",
    "df = pd.DataFrame(data)\n",
    "\n",
    "# Drop the row with Age 31\n",
    "df = df.drop(df[df['Age'] == 31].index)\n",
    "print(df)"
   ]
  },
  {
   "cell_type": "markdown",
   "id": "61b78226-9163-4bdb-a80d-95b6aa0d1d28",
   "metadata": {},
   "source": [
    "### Q7. Create a DataFrame using multiple Series. Explain with an example.\n",
    "\n",
    "You can create a DataFrame using multiple Series by passing a dictionary of Series objects to the pd.DataFrame constructor.\n",
    "\n",
    "Here is an example:"
   ]
  },
  {
   "cell_type": "code",
   "execution_count": 7,
   "id": "5978af3a-bd4a-442a-8c63-257ce0fadf57",
   "metadata": {},
   "outputs": [
    {
     "name": "stdout",
     "output_type": "stream",
     "text": [
      "   A  B  C\n",
      "0  1  4  7\n",
      "1  2  5  8\n",
      "2  3  6  9\n"
     ]
    }
   ],
   "source": [
    "import pandas as pd\n",
    "\n",
    "# Create three Series\n",
    "series1 = pd.Series([1, 2, 3], name='A')\n",
    "series2 = pd.Series([4, 5, 6], name='B')\n",
    "series3 = pd.Series([7, 8, 9], name='C')\n",
    "\n",
    "# Create a DataFrame using the three Series\n",
    "df = pd.DataFrame({'A': series1, 'B': series2, 'C': series3})\n",
    "print(df)"
   ]
  },
  {
   "cell_type": "code",
   "execution_count": null,
   "id": "902c56cd-f49c-4de9-978d-9a90c06758d2",
   "metadata": {},
   "outputs": [],
   "source": []
  }
 ],
 "metadata": {
  "kernelspec": {
   "display_name": "Python 3 (ipykernel)",
   "language": "python",
   "name": "python3"
  },
  "language_info": {
   "codemirror_mode": {
    "name": "ipython",
    "version": 3
   },
   "file_extension": ".py",
   "mimetype": "text/x-python",
   "name": "python",
   "nbconvert_exporter": "python",
   "pygments_lexer": "ipython3",
   "version": "3.10.8"
  }
 },
 "nbformat": 4,
 "nbformat_minor": 5
}
