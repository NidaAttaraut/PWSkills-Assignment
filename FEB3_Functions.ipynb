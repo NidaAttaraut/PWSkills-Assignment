{
 "cells": [
  {
   "cell_type": "markdown",
   "id": "46659755-7da0-47ca-a496-df2f25e4f0aa",
   "metadata": {},
   "source": [
    "## Q1. Which keyword is used to create a function? Create a function to return a list of odd numbers in the range of 1 to 25."
   ]
  },
  {
   "cell_type": "code",
   "execution_count": 2,
   "id": "8c8d30f9-37df-47fd-a5ab-ffda10a04600",
   "metadata": {},
   "outputs": [],
   "source": [
    "## def keyword is used to create a function .\n",
    "l=range(1,25)\n",
    "def oddnos(a):\n",
    "    n= []\n",
    "    for i in a:\n",
    "        if(i%2!=0):\n",
    "            print(i)"
   ]
  },
  {
   "cell_type": "code",
   "execution_count": 3,
   "id": "f4dd7076-4d97-4f45-8247-4b78f1653a72",
   "metadata": {},
   "outputs": [
    {
     "name": "stdout",
     "output_type": "stream",
     "text": [
      "1\n",
      "3\n",
      "5\n",
      "7\n",
      "9\n",
      "11\n",
      "13\n",
      "15\n",
      "17\n",
      "19\n",
      "21\n",
      "23\n"
     ]
    }
   ],
   "source": [
    "oddnos(l)"
   ]
  },
  {
   "cell_type": "markdown",
   "id": "edd8fd51-9769-462d-bdc5-5eee0e66fd16",
   "metadata": {},
   "source": [
    "## Q2. Why *args and **kwargs is used in some functions? Create a function each for *args and **kwargs to demonstrate their use."
   ]
  },
  {
   "cell_type": "markdown",
   "id": "9c4f947f-6925-431d-9f18-56b5822d83f8",
   "metadata": {},
   "source": [
    " In python we can pass a variable number of arguments to a function using special symbols 1.*args(non keyword argument) and 2.**kwargs(keyword argument) *args is used to pass n numbers of arguments to the fuction body.Single * represents that the function will accept only positional arguments and datatype going inside the function is a tuple. We can have any name in place of args. **kwargs is used to pass n numbers of keyword arguments to the function body. Double ** represents that the function will accept only keyword arguments and datatype going inside the function is a dictionary We can have any name in place of kwargs.\n",
    "\n",
    "We use *args and **kwargs as an argument when we are not sure about the number of arguments to pass in the functions."
   ]
  },
  {
   "cell_type": "code",
   "execution_count": 5,
   "id": "a7a64620-098f-453d-8d16-b3af89097985",
   "metadata": {},
   "outputs": [
    {
     "name": "stdout",
     "output_type": "stream",
     "text": [
      "1\n",
      "2\n",
      "3\n",
      "name: John\n",
      "age: 25\n",
      "city: New York\n"
     ]
    }
   ],
   "source": [
    "def func_args(*args):\n",
    "    for arg in args:\n",
    "        print(arg)\n",
    "\n",
    "def func_kwargs(**kwargs):\n",
    "    for key, value in kwargs.items():\n",
    "        print(f\"{key}: {value}\")\n",
    "\n",
    "func_args(1, 2, 3)\n",
    "func_kwargs(name=\"John\", age=25, city=\"New York\")"
   ]
  },
  {
   "cell_type": "markdown",
   "id": "c30e377e-3357-47fa-9196-187b52546a6f",
   "metadata": {},
   "source": [
    "## Q3. What is an iterator in python? Name the method used to initialise the iterator object and the method\n",
    "used for iteration. Use these methods to print the first five elements of the given list [2, 4, 6, 8, 10, 12, 14, 16,\n",
    "18, 20]."
   ]
  },
  {
   "cell_type": "markdown",
   "id": "b3208493-2037-44cc-8418-a0bce8c98213",
   "metadata": {},
   "source": [
    " An iterator in Python is an object that enables a programmer to traverse through a container and access its elements. The iter() function is used to initialize an iterator object and the __next__() method is used for iteration. Here is an example to print the first five elements of the given list:"
   ]
  },
  {
   "cell_type": "code",
   "execution_count": 7,
   "id": "577a7efa-4341-4ed0-92f0-adbcd23f65d5",
   "metadata": {},
   "outputs": [
    {
     "name": "stdout",
     "output_type": "stream",
     "text": [
      "2\n",
      "4\n",
      "6\n",
      "8\n",
      "10\n"
     ]
    }
   ],
   "source": [
    "my_list = [2, 4, 6, 8, 10, 12, 14, 16, 18, 20]\n",
    "my_iter = iter(my_list)\n",
    "\n",
    "for i in range(5):\n",
    "    print(next(my_iter))"
   ]
  },
  {
   "cell_type": "markdown",
   "id": "95e5e7c5-d50a-4b96-85bd-9cb0a4bd191a",
   "metadata": {},
   "source": [
    "## Q4. What is a generator function in python? Why yield keyword is used? Give an example of a generator function."
   ]
  },
  {
   "cell_type": "markdown",
   "id": "e686cbf2-394d-44fc-8a1d-9cd49d47aec2",
   "metadata": {},
   "source": [
    "A generator function in Python is a function that returns an iterator instead of a value. The yield keyword is used in a generator function to produce a value and suspend the function's execution. Here is an example of a generator function:"
   ]
  },
  {
   "cell_type": "code",
   "execution_count": 9,
   "id": "32118f13-ebb9-4c37-8c81-26a90d48dc11",
   "metadata": {},
   "outputs": [
    {
     "name": "stdout",
     "output_type": "stream",
     "text": [
      "1\n",
      "2\n",
      "3\n",
      "4\n",
      "5\n",
      "6\n",
      "7\n",
      "8\n",
      "9\n",
      "10\n"
     ]
    }
   ],
   "source": [
    "def count_up(limit):\n",
    "    for i in range(1, limit + 1):\n",
    "        yield i\n",
    "\n",
    "my_gen = count_up(10)\n",
    "\n",
    "for num in my_gen:\n",
    "    print(num)"
   ]
  },
  {
   "cell_type": "markdown",
   "id": "a4df8743-4e62-41e2-bf3d-24b4f7fef0b2",
   "metadata": {},
   "source": [
    "## Q5. Create a generator function for prime numbers less than 1000. Use the next() method to print the first 20 prime numbers."
   ]
  },
  {
   "cell_type": "code",
   "execution_count": 11,
   "id": "faf154bc-b1ac-4c1a-beb0-be9eb72c9972",
   "metadata": {},
   "outputs": [
    {
     "name": "stdout",
     "output_type": "stream",
     "text": [
      "2\n",
      "3\n",
      "5\n",
      "7\n",
      "11\n",
      "13\n",
      "17\n",
      "19\n",
      "23\n",
      "29\n",
      "31\n",
      "37\n",
      "41\n",
      "43\n",
      "47\n",
      "53\n",
      "59\n",
      "61\n",
      "67\n",
      "71\n"
     ]
    }
   ],
   "source": [
    "def prime_numbers(limit):\n",
    "    primes = []\n",
    "    for num in range(2, limit +1):\n",
    "        if all(num % prime != 0 for prime in primes):\n",
    "            primes.append(num)\n",
    "            yield num\n",
    "my_gen = prime_numbers(1000)\n",
    "\n",
    "for i in range(20):\n",
    "    print(next(my_gen))"
   ]
  },
  {
   "cell_type": "code",
   "execution_count": null,
   "id": "b1b96019-95e3-4006-8c91-40407e9d3691",
   "metadata": {},
   "outputs": [],
   "source": []
  }
 ],
 "metadata": {
  "kernelspec": {
   "display_name": "Python 3 (ipykernel)",
   "language": "python",
   "name": "python3"
  },
  "language_info": {
   "codemirror_mode": {
    "name": "ipython",
    "version": 3
   },
   "file_extension": ".py",
   "mimetype": "text/x-python",
   "name": "python",
   "nbconvert_exporter": "python",
   "pygments_lexer": "ipython3",
   "version": "3.10.8"
  }
 },
 "nbformat": 4,
 "nbformat_minor": 5
}
