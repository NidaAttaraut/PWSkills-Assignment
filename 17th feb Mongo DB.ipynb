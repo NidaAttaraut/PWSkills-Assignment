{
 "cells": [
  {
   "cell_type": "markdown",
   "id": "27f47097-bb31-4557-8372-260077f9f80b",
   "metadata": {},
   "source": [
    "### Q1. What is MongoDB? Explain non-relational databases in short. In which scenarios it is preferred to use MongoDB over SQL databases?"
   ]
  },
  {
   "cell_type": "markdown",
   "id": "eb338cc1-1a60-4624-87c1-9602f0d884c8",
   "metadata": {},
   "source": [
    "MongoDB is a popular NoSQL, non-relational database that allows for flexible and dynamic schema design, making it ideal for big data and real-time web applications.\n",
    "\n",
    "Non-relational databases, also known as NoSQL databases, do not use the traditional table-based relational model used in relational databases such as MySQL, PostgreSQL, and Microsoft SQL Server. Instead, they use a variety of data models such as key-value, document, graph, and column-family stores.\n",
    "\n",
    "MongoDB is preferred over SQL databases in scenarios where:\n",
    "\n",
    "The data is unstructured or semi-structured\n",
    "The schema is dynamic and changing frequently\n",
    "High scalability and performance are required\n",
    "Real-time data processing is necessary\n",
    "Big data analytics are involved"
   ]
  },
  {
   "cell_type": "markdown",
   "id": "79c066ee-d54e-49ed-8b3b-1d52d33e3327",
   "metadata": {},
   "source": [
    "### Q2. State and Explain the features of MongoDB."
   ]
  },
  {
   "cell_type": "markdown",
   "id": "727a480e-d119-4be0-9208-32aff0bb7442",
   "metadata": {},
   "source": [
    "MongoDB is a popular NoSQL, non-relational database that allows for flexible and dynamic schema design, making it ideal for big data and real-time web applications.\n",
    "\n",
    "Non-relational databases, also known as NoSQL databases, do not use the traditional table-based relational model used in relational databases such as MySQL, PostgreSQL, and Microsoft SQL Server. Instead, they use a variety of data models such as key-value, document, graph, and column-family stores.\n",
    "\n",
    "MongoDB is preferred over SQL databases in scenarios where:\n",
    "\n",
    "The data is unstructured or semi-structured\n",
    "The schema is dynamic and changing frequently\n",
    "High scalability and performance are required\n",
    "Real-time data processing is necessary\n",
    "Big data analytics are involved"
   ]
  },
  {
   "cell_type": "markdown",
   "id": "437aa33a-c50f-4886-bebd-a77a37a853e2",
   "metadata": {},
   "source": [
    "### Q3. Write a code to connect MongoDB to Python. Also, create a database and a collection in MongoDB."
   ]
  },
  {
   "cell_type": "code",
   "execution_count": null,
   "id": "32c46354-a10f-4ec0-8273-7cd339af0c5c",
   "metadata": {},
   "outputs": [],
   "source": [
    "import pymongo\n",
    "\n",
    "# Connect to MongoDB\n",
    "client = pymongo.MongoClient(\"mongodb://localhost:27017/\")\n",
    "\n",
    "# Create a database\n",
    "db = client[\"mydatabase\"]\n",
    "\n",
    "# Create a collection\n",
    "collection = db[\"mycollection\"]"
   ]
  },
  {
   "cell_type": "markdown",
   "id": "50b90287-890e-4d57-98ab-ca91b926364d",
   "metadata": {},
   "source": [
    "### Q4. Using the database and the collection created in question number 3, write a code to insert one record, and insert many records. Use the find() and find_one() methods to print the inserted record."
   ]
  },
  {
   "cell_type": "code",
   "execution_count": null,
   "id": "39ff7040-ff1c-4860-b9a3-66e92ae83c3c",
   "metadata": {},
   "outputs": [],
   "source": [
    "# Insert one record\n",
    "document = {\"name\": \"John\", \"age\": 30}\n",
    "collection.insert_one(document)\n",
    "\n",
    "# Insert many records\n",
    "documents = [{\"name\": \"Jane\", \"age\": 25}, {\"name\": \"Bob\", \"age\": 40}]\n",
    "collection.insert_many(documents)\n",
    "\n",
    "# Find one record\n",
    "result = collection.find_one({\"name\": \"John\"})\n",
    "print(result)\n",
    "\n",
    "# Find all records\n",
    "results = collection.find()\n",
    "for result in results:\n",
    "    print(result)"
   ]
  },
  {
   "cell_type": "markdown",
   "id": "f3820c7a-94db-45dc-a5df-829d192aa72c",
   "metadata": {},
   "source": [
    "### Q5. Explain how you can use the find() method to query the MongoDB database. Write a simple code to demonstrate this."
   ]
  },
  {
   "cell_type": "markdown",
   "id": "b076f706-16f2-44b8-b01d-420bbc94bc59",
   "metadata": {},
   "source": [
    "The find() method is used to retrieve data from a MongoDB collection. It returns a cursor object that can be iterated over to retrieve the results.\n",
    "\n",
    "Here is an example code:"
   ]
  },
  {
   "cell_type": "code",
   "execution_count": null,
   "id": "318b514b-ae7f-4401-b048-cb95ec4d798e",
   "metadata": {},
   "outputs": [],
   "source": [
    "# Find all records\n",
    "results = collection.find()\n",
    "for result in results:\n",
    "    print(result)\n",
    "\n",
    "# Find records with a specific condition\n",
    "results = collection.find({\"age\": {\"$gt\": 30}})\n",
    "for result in results:\n",
    "    print(result)"
   ]
  },
  {
   "cell_type": "markdown",
   "id": "473bedac-75f9-4cfb-a094-c4a6b8556848",
   "metadata": {},
   "source": [
    "### Q6. Explain the sort() method. Give an example to demonstrate sorting in MongoDB.\n"
   ]
  },
  {
   "cell_type": "markdown",
   "id": "47a9f101-ad86-43f1-a725-0ca5f325e9c8",
   "metadata": {},
   "source": [
    "The sort() method is used to sort the results of a query in MongoDB. It takes a dictionary as an argument, where the keys are the field names and the values are the sort directions (1 for ascending, -1 for descending).\n",
    "\n",
    "Here is an example code:"
   ]
  },
  {
   "cell_type": "code",
   "execution_count": null,
   "id": "57d94121-2c3a-4897-a717-2b85bec590fe",
   "metadata": {},
   "outputs": [],
   "source": [
    "# Sort by age in ascending order\n",
    "results = collection.find().sort(\"age\", 1)\n",
    "for result in results:\n",
    "    print(result)\n",
    "\n",
    "# Sort by age in descending order\n",
    "results = collection.find().sort(\"age\", -1)\n",
    "for result in results:\n",
    "    print(result)"
   ]
  },
  {
   "cell_type": "markdown",
   "id": "02162196-c263-4fde-af12-e313a05c1dce",
   "metadata": {},
   "source": [
    "### Q7. Explain why delete_one(), delete_many(), and drop() is used."
   ]
  },
  {
   "cell_type": "code",
   "execution_count": null,
   "id": "92b340f1-20f2-477d-9a22-2292e436e665",
   "metadata": {},
   "outputs": [],
   "source": [
    "delete_one(): used to delete a single document that matches a specified filter.\n",
    "delete_many(): used to delete multiple documents that match a specified filter.\n",
    "drop(): used to delete an entire collection or database.\n",
    "These methods are used to remove unwanted data from the database, which can help to:\n",
    "\n",
    "Reduce storage usage\n",
    "Improve query performance\n",
    "Maintain data consistency and integrity\n",
    "Here is an example code:"
   ]
  },
  {
   "cell_type": "code",
   "execution_count": null,
   "id": "8733dd8b-0db2-4b76-92e1-6ba0850576ad",
   "metadata": {},
   "outputs": [],
   "source": [
    "# Delete one record\n",
    "collection.delete_one({\"name\": \"John\"})\n",
    "\n",
    "# Delete many records\n",
    "collection.delete_many({\"age\": {\"$gt\": 30}})\n",
    "\n",
    "# Drop the collection\n",
    "collection.drop()"
   ]
  }
 ],
 "metadata": {
  "kernelspec": {
   "display_name": "Python 3 (ipykernel)",
   "language": "python",
   "name": "python3"
  },
  "language_info": {
   "codemirror_mode": {
    "name": "ipython",
    "version": 3
   },
   "file_extension": ".py",
   "mimetype": "text/x-python",
   "name": "python",
   "nbconvert_exporter": "python",
   "pygments_lexer": "ipython3",
   "version": "3.10.8"
  }
 },
 "nbformat": 4,
 "nbformat_minor": 5
}
