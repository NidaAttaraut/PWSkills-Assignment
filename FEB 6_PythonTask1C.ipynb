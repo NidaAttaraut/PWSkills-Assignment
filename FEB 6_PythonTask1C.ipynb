{
 "cells": [
  {
   "cell_type": "markdown",
   "id": "260ebc6a-4a3c-46fe-a8ec-c270d1b18c69",
   "metadata": {},
   "source": [
    "Q1. Create a function which will take a list as an argument and return the product of all the numbers\n",
    "after creating a flat list.\n",
    "Use the below-given list as an argument for your function.\n",
    "list1 = [1,2,3,4, [44,55,66, True], False, (34,56,78,89,34), {1,2,3,3,2,1}, {1:34, \"key2\": [55, 67, 78, 89], 4: (45,\n",
    "22, 61, 34)}, [56, 'data science'], 'Machine Learning']\n",
    "Note: you must extract numeric keys and values of the dictionary also."
   ]
  },
  {
   "cell_type": "code",
   "execution_count": 4,
   "id": "9b371ee2-b060-4ebe-b872-ad36818ff895",
   "metadata": {},
   "outputs": [],
   "source": [
    "from functools import reduce"
   ]
  },
  {
   "cell_type": "code",
   "execution_count": 6,
   "id": "58f65a1a-63de-44f6-9bfe-2f3b54b3b7d7",
   "metadata": {},
   "outputs": [
    {
     "name": "stdout",
     "output_type": "stream",
     "text": [
      "0\n"
     ]
    }
   ],
   "source": [
    "def product_of_numbers(my_list):\n",
    "    flat_list = [item for sublist in my_list for item in (sublist if isinstance(sublist,list) else [sublist])]\n",
    "    return reduce (lambda x,y:x*y,[num for num in flat_list if isinstance(num,(int, float))])\n",
    "list1 = [1,2,3,4,[44,55,66,True], False,(34,56,78,89,34), {1,2,3,3,2,1}, {1:34, \"key2\": [55, 67, 78, 89], 4: (45, 22, 61, 34)}, [56, 'data science'], 'Machine Learning']\n",
    "print(product_of_numbers(list1))"
   ]
  },
  {
   "cell_type": "code",
   "execution_count": null,
   "id": "324daac0-6411-4315-a135-41c3d975ea67",
   "metadata": {},
   "outputs": [],
   "source": [
    "Q2. Write a python program for encrypting a message sent to you by your friend. The logic of encryption\n",
    "should be such that, for a the output should be z. For b, the output should be y. For c, the output should\n",
    "be x respectively. Also, the whitespace should be replaced with a dollar sign. Keep the punctuation\n",
    "marks unchanged.\n",
    "Input Sentence: I want to become a Data Scientist.\n",
    "Encrypt the above input sentence using the program you just created.\n",
    "Note: Convert the given input sentence into lowercase before encrypting. The final output should be\n",
    "lowercase."
   ]
  },
  {
   "cell_type": "code",
   "execution_count": 8,
   "id": "b786b585-53e0-4de6-8c3c-80825c505a08",
   "metadata": {},
   "outputs": [
    {
     "name": "stdout",
     "output_type": "stream",
     "text": [
      " r$dzmg$gl$yvxlnv$z$wzgz$hxrvmgrhg\n"
     ]
    }
   ],
   "source": [
    "def encrypt_message(input_sentence):\n",
    "    encrypted_message = ' '\n",
    "    \n",
    "    for char in input_sentence.lower():\n",
    "        if char.isalpha():\n",
    "            encrypted_char = chr(ord('z') - (ord(char) - ord('a')))\n",
    "            encrypted_message += encrypted_char\n",
    "        elif char.isspace():\n",
    "            encrypted_message += '$'\n",
    "        else:\n",
    "            encrypted_message += char\n",
    "            \n",
    "    return encrypted_message\n",
    "\n",
    "# Input Sentence\n",
    "input_sentence = 'I want to become a Data Scientist'\n",
    "\n",
    "# Encrypt the input sentence\n",
    "encrypted_output = encrypt_message(input_sentence)\n",
    "print(encrypted_output)"
   ]
  },
  {
   "cell_type": "code",
   "execution_count": null,
   "id": "6a18313f-e360-4b87-b5ef-3173a68466a5",
   "metadata": {},
   "outputs": [],
   "source": []
  }
 ],
 "metadata": {
  "kernelspec": {
   "display_name": "Python 3 (ipykernel)",
   "language": "python",
   "name": "python3"
  },
  "language_info": {
   "codemirror_mode": {
    "name": "ipython",
    "version": 3
   },
   "file_extension": ".py",
   "mimetype": "text/x-python",
   "name": "python",
   "nbconvert_exporter": "python",
   "pygments_lexer": "ipython3",
   "version": "3.10.8"
  }
 },
 "nbformat": 4,
 "nbformat_minor": 5
}
