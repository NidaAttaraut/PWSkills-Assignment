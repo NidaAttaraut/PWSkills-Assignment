{
 "cells": [
  {
   "cell_type": "code",
   "execution_count": null,
   "id": "a212ded6-b5c0-426c-87ce-f3b0895e37a0",
   "metadata": {},
   "outputs": [],
   "source": [
    "Part 1: Theoretical Questions\n",
    "\n",
    "Q1: What are the different data structures used in TensorFlow? Give some examples.\n",
    "TensorFlow uses several data structures, including:\n",
    "\n",
    "Tensors: Multi-dimensional arrays of numerical values. Examples: tf.constant([1, 2, 3]), tf.random.normal([2, 2]).\n",
    "Variables: Trainable tensors that can be modified during the execution of a TensorFlow program. Example: tf.Variable(tf.random.normal([2, 2])).\n",
    "Constants: Tensors that cannot be modified during the execution of a TensorFlow program. Example: tf.constant([1, 2, 3]).\n",
    "Sparse Tensors: Tensors that store only non-zero values. Example: tf.SparseTensor(indices=[[0, 0], [1, 2]], values=[1, 2], dense_shape=[3, 4]).\n",
    "\n",
    "\n",
    "\n"
   ]
  },
  {
   "cell_type": "code",
   "execution_count": null,
   "id": "d6918685-e4a9-4a28-9b1f-0ac6320dba6f",
   "metadata": {},
   "outputs": [],
   "source": [
    "Q2: How does the TensorFlow constant differ from a TensorFlow variable? Explain with an example.\n",
    "A TensorFlow constant is a tensor that cannot be modified during the execution of a TensorFlow program, whereas a TensorFlow variable is a trainable tensor that can be modified during the execution of a TensorFlow program.\n"
   ]
  },
  {
   "cell_type": "code",
   "execution_count": null,
   "id": "060aa513-4cb0-4ee6-8824-1e57c9aaeb07",
   "metadata": {},
   "outputs": [],
   "source": [
    "import tensorflow as tf\n",
    "\n",
    "# Create a constant tensor\n",
    "const_tensor = tf.constant([1, 2, 3])\n",
    "\n",
    "# Create a variable tensor\n",
    "var_tensor = tf.Variable(tf.random.normal([2, 2]))\n",
    "\n",
    "# Try to modify the constant tensor\n",
    "try:\n",
    "    const_tensor.assign([4, 5, 6])\n",
    "except AttributeError:\n",
    "    print(\"Cannot modify a constant tensor\")\n",
    "\n",
    "# Modify the variable tensor\n",
    "var_tensor.assign(tf.random.normal([2, 2]))\n",
    "print(var_tensor)"
   ]
  },
  {
   "cell_type": "code",
   "execution_count": null,
   "id": "07305fa9-7a7e-43e1-9db1-417622468c03",
   "metadata": {},
   "outputs": [],
   "source": [
    "Q3: Describe the process of matrix addition, multiplication, and element-wise operations in TensorFlow.\n",
    "Matrix addition, multiplication, and element-wise operations in TensorFlow can be performed using the following methods:\n",
    "\n",
    "Matrix Addition: tf.add(matrix1, matrix2)\n",
    "Matrix Multiplication: tf.matmul(matrix1, matrix2)\n",
    "Element-wise Multiplication: tf.multiply(matrix1, matrix2)\n",
    "Example:\n"
   ]
  },
  {
   "cell_type": "code",
   "execution_count": null,
   "id": "3b20ef38-63ed-496b-8e46-a45f70fe5b55",
   "metadata": {},
   "outputs": [],
   "source": [
    "import tensorflow as tf\n",
    "\n",
    "matrix1 = tf.random.normal([2, 2])\n",
    "matrix2 = tf.random.normal([2, 2])\n",
    "\n",
    "# Matrix addition\n",
    "result_add = tf.add(matrix1, matrix2)\n",
    "\n",
    "# Matrix multiplication\n",
    "result_matmul = tf.matmul(matrix1, matrix2)\n",
    "\n",
    "# Element-wise multiplication\n",
    "result_multiply = tf.multiply(matrix1, matrix2)\n",
    "\n",
    "print(result_add)\n",
    "print(result_matmul)\n",
    "print(result_multiply)"
   ]
  },
  {
   "cell_type": "markdown",
   "id": "d7614559-cff9-43d3-9349-97ff372dde74",
   "metadata": {},
   "source": [
    "# Task 1: Creating and Manipulating Matrices\n",
    "### T1: Create a normal matrix A with dimensions 2x2, using TensorFlow's random_normal function. Display the values of matrix A."
   ]
  },
  {
   "cell_type": "code",
   "execution_count": null,
   "id": "2b7c1aac-f544-4946-9138-eb5e958d9428",
   "metadata": {},
   "outputs": [],
   "source": [
    "import tensorflow as tf\n",
    "\n",
    "matrix_A = tf.random.normal([2, 2])\n",
    "print(matrix_A)"
   ]
  },
  {
   "cell_type": "markdown",
   "id": "b5e49f99-3779-4f5c-bda7-4127bed81036",
   "metadata": {},
   "source": [
    "### T2: Create a Gaussian matrix B with dimensions 2x2, using TensorFlow's truncated_normal function. Display the values of matrix B."
   ]
  },
  {
   "cell_type": "code",
   "execution_count": null,
   "id": "ea819851-7b6c-40d4-a0ec-bc30803cc771",
   "metadata": {},
   "outputs": [],
   "source": [
    "import tensorflow as tf\n",
    "\n",
    "matrix_B = tf.truncated_normal([2, 2])\n",
    "print(matrix_B)"
   ]
  },
  {
   "cell_type": "markdown",
   "id": "e04238c8-bb51-4b46-9e10-2802c9944b67",
   "metadata": {},
   "source": [
    "### T3: Create a matrix C with dimensions 2x2, where the values are drawn from a normal distribution with a mean of 2 and a standard deviation of 0.1, using TensorFlow's random.normal function. Display the values of matrix C."
   ]
  },
  {
   "cell_type": "code",
   "execution_count": null,
   "id": "2a22e26c-8677-4403-8d0f-05fedc8be03d",
   "metadata": {},
   "outputs": [],
   "source": [
    "import tensorflow as tf\n",
    "\n",
    "matrix_C = tf.random.normal([2, 2], mean=2, stddev=0.1)\n",
    "print(matrix_C)"
   ]
  },
  {
   "cell_type": "markdown",
   "id": "3e916bde-47b6-4a6c-9c2f-51fb0ebfad1a",
   "metadata": {},
   "source": [
    "### T4: Perform matrix addition between matrix A and matrix B, and store the result in matrix D."
   ]
  },
  {
   "cell_type": "code",
   "execution_count": null,
   "id": "b9012a28-0b69-4865-9fea-65420c3e4d43",
   "metadata": {},
   "outputs": [],
   "source": [
    "import tensorflow as tf\n",
    "\n",
    "matrix_A = tf.random.normal([2, 2])\n",
    "matrix_B = tf.truncated_normal([2, 2])\n",
    "matrix_D = tf.add(matrix_A, matrix_B)\n",
    "print(matrix_D)"
   ]
  },
  {
   "cell_type": "markdown",
   "id": "25f5324f-6a7a-4dd5-9065-fe381de12e08",
   "metadata": {},
   "source": [
    "### T5: Perform matrix multiplication between matrix C and matrix D, and store the result in matrix E."
   ]
  },
  {
   "cell_type": "code",
   "execution_count": null,
   "id": "758eaa33-d48e-419a-9c29-39708f614eac",
   "metadata": {},
   "outputs": [],
   "source": [
    "import tensorflow as tf\n",
    "\n",
    "matrix_C = tf.random.normal([2, 2], mean=2, stddev=0.1)\n",
    "matrix_D = tf.add(matrix_A, matrix_B)\n",
    "matrix_E = tf.matmul(matrix_C, matrix_D)\n",
    "print(matrix_E)"
   ]
  },
  {
   "cell_type": "markdown",
   "id": "75335428-97c1-43c7-ad33-04cd6a6cba1a",
   "metadata": {},
   "source": [
    "# Task 2: Performing Additional Matrix Operations\n",
    "### T1: Create a matrix F with dimensions 2x2, initialized with random values using TensorFlow's random_uniform function."
   ]
  },
  {
   "cell_type": "code",
   "execution_count": null,
   "id": "bcb060d7-11d9-4066-8e32-b5d2a8bf79bb",
   "metadata": {},
   "outputs": [],
   "source": [
    "import tensorflow as tf\n",
    "\n",
    "matrix_F = tf.random.uniform([2, 2])\n",
    "print(matrix_F)"
   ]
  },
  {
   "cell_type": "markdown",
   "id": "242966a3-e901-48a8-8077-b042d25bfb81",
   "metadata": {},
   "source": [
    "### T2: Calculate the transpose of matrix F and store the result in matrix G."
   ]
  },
  {
   "cell_type": "code",
   "execution_count": null,
   "id": "41538e80-8d24-4b88-ac25-8e9a955ee669",
   "metadata": {},
   "outputs": [],
   "source": [
    "import tensorflow as tf\n",
    "\n",
    "matrix_F = tf.random.uniform([2, 2])\n",
    "matrix_G = tf.transpose(matrix_F)\n",
    "print(matrix_G)"
   ]
  },
  {
   "cell_type": "markdown",
   "id": "de9076b8-1287-4281-a2e7-5d5e39f09429",
   "metadata": {},
   "source": [
    "### T3: Calculate the element-wise exponential of matrix F and store the result in matrix H."
   ]
  },
  {
   "cell_type": "markdown",
   "id": "f0b4fa30-1255-436d-9b5f-875586cefd01",
   "metadata": {},
   "source": [
    "### T4: Create a matrix I by concatenating matrix F and matrix G horizontally.\n"
   ]
  },
  {
   "cell_type": "code",
   "execution_count": null,
   "id": "61dc6a63-d1ce-40ca-afa8-4f668e11b24f",
   "metadata": {},
   "outputs": [],
   "source": [
    "import tensorflow as tf\n",
    "\n",
    "matrix_F = tf.random.uniform([2, 2])\n",
    "matrix_G = tf.transpose(matrix_F)\n",
    "matrix_I = tf.concat([matrix_F, matrix_G], axis=1)\n",
    "print(matrix_I)"
   ]
  },
  {
   "cell_type": "code",
   "execution_count": null,
   "id": "f207cfcb-5e46-410c-a384-36bfe2e06fec",
   "metadata": {},
   "outputs": [],
   "source": [
    "### T5: Create a matrix J by concatenating matrix F and matrix H vertically."
   ]
  },
  {
   "cell_type": "code",
   "execution_count": null,
   "id": "51d9044d-4d23-493b-a281-cfe4c254bf68",
   "metadata": {},
   "outputs": [],
   "source": [
    "import tensorflow as tf\n",
    "\n",
    "matrix_F = tf.random.uniform([2, 2])\n",
    "matrix_H = tf.exp(matrix_F)\n",
    "matrix_J = tf.concat([matrix_F, matrix_H], axis=0)\n",
    "print(matrix_J)"
   ]
  }
 ],
 "metadata": {
  "kernelspec": {
   "display_name": "Python 3 (ipykernel)",
   "language": "python",
   "name": "python3"
  },
  "language_info": {
   "codemirror_mode": {
    "name": "ipython",
    "version": 3
   },
   "file_extension": ".py",
   "mimetype": "text/x-python",
   "name": "python",
   "nbconvert_exporter": "python",
   "pygments_lexer": "ipython3",
   "version": "3.10.8"
  }
 },
 "nbformat": 4,
 "nbformat_minor": 5
}
