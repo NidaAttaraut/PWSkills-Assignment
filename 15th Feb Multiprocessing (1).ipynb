{
 "cells": [
  {
   "cell_type": "markdown",
   "id": "cc6a4c7b-4dd4-4d39-aa93-e6fcb74ef468",
   "metadata": {},
   "source": [
    "### Q1. What is multiprocessing in python? Why is it useful?"
   ]
  },
  {
   "cell_type": "markdown",
   "id": "c1fea6be-0751-4dc0-8ec9-1304304295b1",
   "metadata": {},
   "source": [
    "Multiprocessing in Python is a feature that allows a program to execute multiple processes or flows of execution concurrently. This is useful for tasks that are independent of each other and can be executed simultaneously, improving the overall performance and responsiveness of the program.\n",
    "\n",
    "Multiprocessing is particularly useful for CPU-bound tasks, such as scientific computing, data processing, and machine learning, where the program can take advantage of multiple CPU cores to perform tasks in parallel."
   ]
  },
  {
   "cell_type": "markdown",
   "id": "8db92469-922a-4624-80df-fc5799aca23d",
   "metadata": {},
   "source": [
    "### Q2. What are the differences between multiprocessing and multithreading?"
   ]
  },
  {
   "cell_type": "markdown",
   "id": "93ec9af9-ead4-4711-a1d7-89de853ce459",
   "metadata": {},
   "source": [
    "Here are the main differences between multiprocessing and multithreading:\n",
    "\n",
    "Processes vs Threads: Multiprocessing creates multiple processes, each with its own memory space, while multithreading creates multiple threads within a single process, sharing the same memory space.\n",
    "CPU usage: Multiprocessing can take advantage of multiple CPU cores to perform tasks in parallel, while multithreading is limited to a single CPU core.\n",
    "Memory usage: Multiprocessing requires more memory, as each process has its own memory space, while multithreading shares the same memory space.\n",
    "Communication: Multiprocessing requires explicit communication between processes, while multithreading can share data between threads using shared variables."
   ]
  },
  {
   "cell_type": "markdown",
   "id": "feed50e6-b952-4879-bb91-aee523c4b2a3",
   "metadata": {},
   "source": [
    "### Q3. Write a python code to create a process using the multiprocessing module."
   ]
  },
  {
   "cell_type": "code",
   "execution_count": 2,
   "id": "e5b3cd3c-6516-4184-a98b-7f57b771d7e6",
   "metadata": {},
   "outputs": [
    {
     "name": "stdout",
     "output_type": "stream",
     "text": [
      "Worker 1 started\n",
      "Worker 1 finished\n"
     ]
    }
   ],
   "source": [
    "import multiprocessing\n",
    "\n",
    "def worker(num):\n",
    "    print(f\"Worker {num} started\")\n",
    "    # do some work\n",
    "    print(f\"Worker {num} finished\")\n",
    "\n",
    "if __name__ == \"__main__\":\n",
    "    p = multiprocessing.Process(target=worker, args=(1,))\n",
    "    p.start()\n",
    "    p.join()"
   ]
  },
  {
   "cell_type": "markdown",
   "id": "fd3bf30a-6373-4451-acfc-bbbfbb39425b",
   "metadata": {},
   "source": [
    "### Q4. What is a multiprocessing pool in python? Why is it used?"
   ]
  },
  {
   "cell_type": "markdown",
   "id": "96ca8c82-ced3-41cc-b0b7-3293a9b77385",
   "metadata": {},
   "source": [
    "A multiprocessing pool is a group of worker processes that can be used to execute tasks in parallel. It is used to simplify the process of creating and managing multiple processes, and to improve the performance of CPU-bound tasks.\n",
    "\n",
    "A pool of worker processes can be used to execute multiple tasks concurrently, without the need to create and manage individual processes."
   ]
  },
  {
   "cell_type": "markdown",
   "id": "732b85c3-b320-49a1-b3cf-ef6f896ba789",
   "metadata": {},
   "source": [
    "### Q5. How can we create a pool of worker processes in python using the multiprocessing module?"
   ]
  },
  {
   "cell_type": "code",
   "execution_count": 3,
   "id": "ea39561c-80a1-447c-89f3-74344832ebae",
   "metadata": {},
   "outputs": [
    {
     "name": "stdout",
     "output_type": "stream",
     "text": [
      "Worker 0 startedWorker 2 startedWorker 1 startedWorker 3 started\n",
      "\n",
      "\n",
      "\n",
      "Worker 0 finishedWorker 2 finishedWorker 1 finishedWorker 3 finished\n",
      "\n",
      "\n",
      "\n"
     ]
    }
   ],
   "source": [
    "import multiprocessing\n",
    "\n",
    "def worker(num):\n",
    "    print(f\"Worker {num} started\")\n",
    "    # do some work\n",
    "    print(f\"Worker {num} finished\")\n",
    "\n",
    "if __name__ == \"__main__\":\n",
    "    pool = multiprocessing.Pool(processes=4)\n",
    "    pool.map(worker, range(4))\n",
    "    pool.close()\n",
    "    pool.join()"
   ]
  },
  {
   "cell_type": "markdown",
   "id": "77fd0c9d-963d-4bab-857a-b61aaf39608e",
   "metadata": {},
   "source": [
    "### Q6. Write a python program to create 4 processes, each process should print a different number using the multiprocessing module in python."
   ]
  },
  {
   "cell_type": "code",
   "execution_count": 4,
   "id": "f6881083-9a33-4ffe-a611-504489427280",
   "metadata": {},
   "outputs": [
    {
     "name": "stdout",
     "output_type": "stream",
     "text": [
      "0\n",
      "1\n",
      "2\n",
      "3\n"
     ]
    }
   ],
   "source": [
    "import multiprocessing\n",
    "\n",
    "def worker(num):\n",
    "    print(num)\n",
    "\n",
    "if __name__ == \"__main__\":\n",
    "    processes = []\n",
    "    for i in range(4):\n",
    "        p = multiprocessing.Process(target=worker, args=(i,))\n",
    "        processes.append(p)\n",
    "        p.start()\n",
    "\n",
    "    for p in processes:\n",
    "        p.join()"
   ]
  },
  {
   "cell_type": "code",
   "execution_count": null,
   "id": "83c9b7c6-3d88-407a-bbb7-bd3e59ee7278",
   "metadata": {},
   "outputs": [],
   "source": []
  }
 ],
 "metadata": {
  "kernelspec": {
   "display_name": "Python 3 (ipykernel)",
   "language": "python",
   "name": "python3"
  },
  "language_info": {
   "codemirror_mode": {
    "name": "ipython",
    "version": 3
   },
   "file_extension": ".py",
   "mimetype": "text/x-python",
   "name": "python",
   "nbconvert_exporter": "python",
   "pygments_lexer": "ipython3",
   "version": "3.10.8"
  }
 },
 "nbformat": 4,
 "nbformat_minor": 5
}
