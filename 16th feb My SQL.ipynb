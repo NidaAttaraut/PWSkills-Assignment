{
 "cells": [
  {
   "cell_type": "markdown",
   "id": "0e14e1c3-afdc-4b2b-8027-e9f42c493ede",
   "metadata": {},
   "source": [
    "### Q1. What is a database? Differentiate between SQL and NoSQL databases.\n",
    "\n"
   ]
  },
  {
   "cell_type": "markdown",
   "id": "5a9de222-b9e4-4394-b478-8257bb0880e5",
   "metadata": {},
   "source": [
    "A database is a collection of organized data that is stored in a way that allows for efficient retrieval and manipulation.\n",
    "\n",
    "SQL (Structured Query Language) databases are relational databases that use a fixed schema to store data in tables with well-defined relationships between them. Examples of SQL databases include MySQL, PostgreSQL, and Microsoft SQL Server.\n",
    "\n",
    "NoSQL databases, on the other hand, are non-relational databases that do not use a fixed schema to store data. They are often used for big data and real-time web applications. Examples of NoSQL databases include MongoDB, Cassandra, and Redis."
   ]
  },
  {
   "cell_type": "markdown",
   "id": "6c0ae619-e757-412b-8740-9a95b772fbf1",
   "metadata": {},
   "source": [
    "### Q2. What is DDL? Explain why CREATE, DROP, ALTER, and TRUNCATE are used with an example.\n"
   ]
  },
  {
   "cell_type": "markdown",
   "id": "44c3aac5-d731-41cd-af55-bc18e1c1c18e",
   "metadata": {},
   "source": [
    "DDL (Data Definition Language) is a set of SQL statements used to define and modify the structure of a database.\n",
    "\n",
    "CREATE: used to create a new table or database.\n",
    "DROP: used to delete a table or database.\n",
    "ALTER: used to modify the structure of a table.\n",
    "TRUNCATE: used to delete all rows from a table."
   ]
  },
  {
   "cell_type": "code",
   "execution_count": null,
   "id": "3b28fa8b-c0e4-412a-901e-818007f9e891",
   "metadata": {},
   "outputs": [],
   "source": [
    "CREATE TABLE customers (\n",
    "  id INT PRIMARY KEY,\n",
    "  name VARCHAR(255),\n",
    "  email VARCHAR(255)\n",
    ");\n",
    "\n",
    "DROP TABLE customers;\n",
    "\n",
    "ALTER TABLE customers ADD COLUMN phone VARCHAR(20);\n",
    "\n",
    "TRUNCATE TABLE customers;"
   ]
  },
  {
   "cell_type": "markdown",
   "id": "f10489d3-3874-49b3-af9e-27bff3317b04",
   "metadata": {},
   "source": [
    "### Q3. What is DML? Explain INSERT, UPDATE, and DELETE with an example.\n"
   ]
  },
  {
   "cell_type": "markdown",
   "id": "093b27bf-4015-4827-af48-be83b8c82b62",
   "metadata": {},
   "source": [
    "DML (Data Manipulation Language) is a set of SQL statements used to manipulate data in a database.\n",
    "\n",
    "INSERT: used to add new data to a table.\n",
    "UPDATE: used to modify existing data in a table.\n",
    "DELETE: used to delete data from a table.\n",
    "Example:"
   ]
  },
  {
   "cell_type": "code",
   "execution_count": null,
   "id": "3a6d8036-5707-40e1-af83-32f603b2fb1f",
   "metadata": {},
   "outputs": [],
   "source": [
    "INSERT INTO customers (name, email) VALUES ('John Doe', 'john@example.com');\n",
    "\n",
    "UPDATE customers SET name = 'Jane Doe' WHERE id = 1;\n",
    "\n",
    "DELETE FROM customers WHERE id = 1;"
   ]
  },
  {
   "cell_type": "markdown",
   "id": "3c3923da-fe8c-43b8-9f1d-2f131233b318",
   "metadata": {},
   "source": [
    "### Q4. What is DQL? Explain SELECT with an example.\n"
   ]
  },
  {
   "cell_type": "code",
   "execution_count": null,
   "id": "c56f8aa2-dc7f-4f03-bcb1-fa3635fcb1a1",
   "metadata": {},
   "outputs": [],
   "source": [
    "DQL (Data Query Language) is a set of SQL statements used to retrieve data from a database.\n",
    "\n",
    "SELECT: used to retrieve data from a table.\n",
    "Example:"
   ]
  },
  {
   "cell_type": "code",
   "execution_count": null,
   "id": "d7134214-c928-4636-bed5-a6e5b3678f4b",
   "metadata": {},
   "outputs": [],
   "source": [
    "SELECT * FROM customers WHERE name = 'John Doe';"
   ]
  },
  {
   "cell_type": "markdown",
   "id": "5d0707c9-a06e-4ecf-9895-2f69b1e7020a",
   "metadata": {},
   "source": [
    "### Q5. Explain Primary Key and Foreign Key.\n"
   ]
  },
  {
   "cell_type": "markdown",
   "id": "28217386-a36b-4757-9785-71d37c35e93a",
   "metadata": {},
   "source": [
    "Primary Key: a unique identifier for each row in a table. It is used to uniquely identify each record in a table.\n",
    "Foreign Key: a field in a table that refers to the primary key of another table. It is used to establish relationships between tables.\n",
    "Example:"
   ]
  },
  {
   "cell_type": "code",
   "execution_count": null,
   "id": "cc31d548-7260-4820-8334-57db9416a998",
   "metadata": {},
   "outputs": [],
   "source": [
    "CREATE TABLE orders (\n",
    "  id INT PRIMARY KEY,\n",
    "  customer_id INT,\n",
    "  FOREIGN KEY (customer_id) REFERENCES customers(id)\n",
    ");"
   ]
  },
  {
   "cell_type": "markdown",
   "id": "a7a464e4-4388-4d0f-93bd-80a9287829e4",
   "metadata": {},
   "source": [
    "### Q6. Write a python code to connect MySQL to python. Explain the cursor() and execute() method.\n"
   ]
  },
  {
   "cell_type": "code",
   "execution_count": null,
   "id": "66689d2d-4e27-4f38-aac9-0e0b52b7c010",
   "metadata": {},
   "outputs": [],
   "source": [
    "import mysql.connector\n",
    "\n",
    "cnx = mysql.connector.connect(\n",
    "  user='username',\n",
    "  password='password',\n",
    "  host='localhost',\n",
    "  database='database'\n",
    ")\n",
    "\n",
    "cursor = cnx.cursor()\n",
    "\n",
    "query = \"SELECT * FROM customers\"\n",
    "cursor.execute(query)\n",
    "\n",
    "for row in cursor.fetchall():\n",
    "  print(row)\n",
    "\n",
    "cnx.close()"
   ]
  },
  {
   "cell_type": "markdown",
   "id": "6fd82f68-85c0-46c4-90e9-e5aed6c4d598",
   "metadata": {},
   "source": [
    "### Q7. Give the order of execution of SQL clauses in an SQL query."
   ]
  },
  {
   "cell_type": "markdown",
   "id": "35342f53-4781-4c92-938f-ed805dc9263d",
   "metadata": {},
   "source": [
    "The order of execution of SQL clauses in an SQL query is:\n",
    "\n",
    "FROM\n",
    "WHERE\n",
    "GROUP BY\n",
    "HAVING\n",
    "SELECT\n",
    "ORDER BY\n",
    "LIMIT\n",
    "This order is important because it determines how the query is executed and what results are returned."
   ]
  }
 ],
 "metadata": {
  "kernelspec": {
   "display_name": "Python 3 (ipykernel)",
   "language": "python",
   "name": "python3"
  },
  "language_info": {
   "codemirror_mode": {
    "name": "ipython",
    "version": 3
   },
   "file_extension": ".py",
   "mimetype": "text/x-python",
   "name": "python",
   "nbconvert_exporter": "python",
   "pygments_lexer": "ipython3",
   "version": "3.10.8"
  }
 },
 "nbformat": 4,
 "nbformat_minor": 5
}
